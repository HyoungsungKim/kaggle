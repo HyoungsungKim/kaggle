{
 "nbformat": 4,
 "nbformat_minor": 2,
 "metadata": {
  "language_info": {
   "name": "python",
   "codemirror_mode": {
    "name": "ipython",
    "version": 3
   },
   "version": "3.8.1-final"
  },
  "orig_nbformat": 2,
  "file_extension": ".py",
  "mimetype": "text/x-python",
  "name": "python",
  "npconvert_exporter": "python",
  "pygments_lexer": "ipython3",
  "version": 3,
  "kernelspec": {
   "name": "python38164bit66f7a8720ea44564891eb6b9b39e6c03",
   "display_name": "Python 3.8.1 64-bit"
  }
 },
 "cells": [
  {
   "cell_type": "code",
   "execution_count": 1,
   "metadata": {},
   "outputs": [],
   "source": [
    "import torch\n",
    "import torch.nn as nn\n",
    "import torch.optim as optim\n",
    "\n",
    "import numpy as np\n",
    "import collections\n",
    "import time\n",
    "\n",
    "from random import choice\n",
    "from kaggle_environments import evaluate, make, utils"
   ]
  },
  {
   "cell_type": "code",
   "execution_count": 2,
   "metadata": {},
   "outputs": [],
   "source": [
    "Experience = collections.namedtuple('Experience', field_names=['observation', 'action', 'reward', 'done', 'new_observation'])"
   ]
  },
  {
   "cell_type": "code",
   "execution_count": 3,
   "metadata": {},
   "outputs": [],
   "source": [
    "class ExperienceBuffer:\n",
    "    def __init__(self, capacity):\n",
    "        self.buffer = collections.deque(maxlen=capacity)\n",
    "\n",
    "    def __len__(self):\n",
    "        return len(self.buffer)\n",
    "\n",
    "    def append(self, experience):\n",
    "        self.buffer.append(experience)\n",
    "\n",
    "    def sample(self, batch_size):\n",
    "        # * Get a number of batch_size experience in a range of len(self.buffer)\n",
    "        # * It does not replace\n",
    "        indices = np.random.choice(len(self.buffer), batch_size, replace=False)\n",
    "\n",
    "        observation, actions, rewards, dones, next_observation = zip(*[self.buffer[idx] for idx in indices])\n",
    "        return np.array(observation), np.array(actions), np.array(rewards, dtype=np.float32), np.array(dones, dtype=np.uint8), np.array(next_observation)"
   ]
  },
  {
   "cell_type": "code",
   "execution_count": 4,
   "metadata": {},
   "outputs": [],
   "source": [
    "class Flatten(nn.Module):\n",
    "    def __init__(self):\n",
    "        super(Flatten, self).__init__()\n",
    "\n",
    "    def forward(self, shape):\n",
    "        return shape.view(shape.size()[0], -1)\n",
    "\n",
    "\n",
    "class DQN(nn.Module):\n",
    "    def __init__(self, input_shape, n_actions):\n",
    "        super(DQN, self).__init__()\n",
    "\n",
    "        self.conv = nn.Sequential(\n",
    "            nn.Conv2d(input_shape[0], 32, kernel_size=3, padding = 1, stride=4),\n",
    "            nn.ReLU(),\n",
    "\n",
    "            nn.Conv2d(32, 64, kernel_size=4, padding = 1, stride=2),\n",
    "            nn.ReLU(),\n",
    "            nn.Conv2d(64, 64, kernel_size=3, padding = 1, stride=1),\n",
    "            nn.ReLU(),\n",
    "            nn.Flatten()\n",
    "        )\n",
    "\n",
    "        conv_out_size = self._get_conv_out(input_shape)\n",
    "\n",
    "        self.fc = nn.Sequential(\n",
    "            nn.Linear(conv_out_size, 512),\n",
    "            nn.ReLU(),\n",
    "            nn.Linear(512, n_actions)\n",
    "        )\n",
    "\n",
    "    def _get_conv_out(self, input_shape):\n",
    "        # * To make 3D shape, we have to put 1 in torch.zeros\n",
    "        # * torch.zeros(1, 1, 52, 52)\n",
    "        # * -> troch.zeros(batch_dimension, *shape)\n",
    "        out = self.conv(torch.zeros(1, *input_shape))\n",
    "        return int(np.prod(out.size()))\n",
    "\n",
    "    def forward(self, x):\n",
    "        conv_out = self.conv(x)\n",
    "        fc_out = self.fc(conv_out)\n",
    "        return fc_out"
   ]
  },
  {
   "cell_type": "code",
   "execution_count": 5,
   "metadata": {},
   "outputs": [
    {
     "name": "stdout",
     "output_type": "stream",
     "text": "DQN(\n  (conv): Sequential(\n    (0): Conv2d(1, 32, kernel_size=(3, 3), stride=(4, 4), padding=(1, 1))\n    (1): ReLU()\n    (2): Conv2d(32, 64, kernel_size=(4, 4), stride=(2, 2), padding=(1, 1))\n    (3): ReLU()\n    (4): Conv2d(64, 64, kernel_size=(3, 3), stride=(1, 1), padding=(1, 1))\n    (5): ReLU()\n    (6): Flatten()\n  )\n  (fc): Sequential(\n    (0): Linear(in_features=2304, out_features=512, bias=True)\n    (1): ReLU()\n    (2): Linear(in_features=512, out_features=10, bias=True)\n  )\n)\n"
    },
    {
     "data": {
      "text/plain": "tensor([[-0.0170, -0.0211,  0.0050, -0.0114, -0.0246, -0.0319, -0.0045,  0.0307,\n         -0.0234, -0.0002]], grad_fn=<AddmmBackward>)"
     },
     "execution_count": 5,
     "metadata": {},
     "output_type": "execute_result"
    }
   ],
   "source": [
    "image = torch.rand(1, 1, 52, 52)\n",
    "dqn = DQN(image[0].shape, 10)\n",
    "print(dqn)\n",
    "dqn(image)"
   ]
  },
  {
   "cell_type": "code",
   "execution_count": 6,
   "metadata": {},
   "outputs": [],
   "source": [
    "# /kaggle_environments/envs/connectx.py\n",
    "def is_win(board, column, mark, config, has_played=True):\n",
    "    columns = config.columns\n",
    "    rows = config.rows\n",
    "    inarow = config.inarow - 1\n",
    "    row = (\n",
    "        min([r for r in range(rows) if board[column + (r * columns)] == mark])\n",
    "        if has_played\n",
    "        else max([r for r in range(rows) if board[column + (r * columns)] == 0])\n",
    "    )\n",
    "\n",
    "    def count(offset_row, offset_column):\n",
    "        for i in range(1, inarow + 1):\n",
    "            r = row + offset_row * i\n",
    "            c = column + offset_column * i\n",
    "            if (\n",
    "                r < 0\n",
    "                or r >= rows\n",
    "                or c < 0\n",
    "                or c >= columns\n",
    "                or board[c + (r * columns)] != mark\n",
    "            ):\n",
    "                return i - 1\n",
    "        return inarow\n",
    "\n",
    "    return (\n",
    "        count(1, 0) >= inarow  # vertical.\n",
    "        or (count(0, 1) + count(0, -1)) >= inarow  # horizontal.\n",
    "        or (count(-1, -1) + count(1, 1)) >= inarow  # top left diagonal.\n",
    "        or (count(-1, 1) + count(1, -1)) >= inarow  # top right diagonal.\n",
    "    )\n"
   ]
  },
  {
   "cell_type": "code",
   "execution_count": 50,
   "metadata": {},
   "outputs": [],
   "source": [
    "class Agent:\n",
    "    def __init__(self, env, exp_buffer):\n",
    "        configuration = env.configuration\n",
    "        self.env = env\n",
    "        self.columns = configuration['columns']\n",
    "        self.rows = configuration['rows']        \n",
    "        self.exp_buffer = exp_buffer\n",
    "        self._reset()\n",
    "\n",
    "    def _reset(self):        \n",
    "        if np.random.random() < 0.3:\n",
    "            self.trainer = self.env.train([None, \"random\"])\n",
    "           # print(\"random mode\")\n",
    "            self.trainer.reset()\n",
    "        else:\n",
    "            self.trainer = self.env.train([None, \"negamax\"])\n",
    "           # print(\"negamax mode\")\n",
    "            self.trainer.reset()\n",
    "\n",
    "        env_observation = self.trainer.reset()\n",
    "        self.mark = env_observation['mark']\n",
    "        self.board = env_observation['board']\n",
    "        np_board = np.array(self.board)\n",
    "        np_board = np_board.reshape(1, self.rows, -1)\n",
    "        assert np_board.shape[2] == self.columns\n",
    "\n",
    "        self.env.reset()\n",
    "        self.observation = np_board\n",
    "        self.total_reward = 0.0       \n",
    "\n",
    "    def _select_random_action(self):   \n",
    "        return choice([c for c in range (self.columns) if self.board[c] == 0])  \n",
    "        \n",
    "    @torch.no_grad()\n",
    "    def play_step(self, net, epsilon=0.0, device=\"cpu\"):\n",
    "        done_reward = None\n",
    "\n",
    "        if np.random.random() < epsilon:\n",
    "            action = self._select_random_action()\n",
    "        else:            \n",
    "            observation_v = torch.from_numpy(self.observation).float().to(device)\n",
    "            # Unsqueeze for batch size\n",
    "            # [batch_size, channel, row, column]\n",
    "            q_vals_v = net(observation_v.unsqueeze(0))\n",
    "            _, action = torch.max(q_vals_v, dim=1)\n",
    "            action = int(action)\n",
    "\n",
    "        new_observation, reward, done, _ = self.trainer.step(action)        \n",
    "        \n",
    "        if reward == None:\n",
    "            reward = -10\n",
    "\n",
    "        # Do not need to consider lose case. If agent can get high reward when it doen win        \n",
    "        if done is not True and is_win(self.board, action, self.mark, self.env.configuration, has_played=False):\n",
    "            reward = 10\n",
    "\n",
    "        if done == False:\n",
    "            reward = 1                              \n",
    "   \n",
    "        self.total_reward += reward\n",
    "        self.board = new_observation['board']\n",
    "\n",
    "        new_observation = np.array(self.board)\n",
    "        new_observation = new_observation.reshape(1, self.rows, -1)\n",
    "        assert new_observation.shape[2] == self.columns\n",
    "        \n",
    "        exp = Experience(self.observation, action, reward, done, new_observation)\n",
    "\n",
    "        self.exp_buffer.append(exp)\n",
    "        self.observation = new_observation\n",
    "\n",
    "        if done:\n",
    "            done_reward = self.total_reward\n",
    "            self._reset()     \n",
    "\n",
    "        return done_reward"
   ]
  },
  {
   "cell_type": "code",
   "execution_count": 51,
   "metadata": {},
   "outputs": [
    {
     "name": "stdout",
     "output_type": "stream",
     "text": "+---+---+---+---+---+---+---+\n| 0 | 0 | 0 | 0 | 0 | 0 | 0 |\n+---+---+---+---+---+---+---+\n| 0 | 0 | 0 | 0 | 0 | 0 | 0 |\n+---+---+---+---+---+---+---+\n| 0 | 0 | 0 | 0 | 0 | 0 | 0 |\n+---+---+---+---+---+---+---+\n| 0 | 0 | 0 | 0 | 0 | 0 | 0 |\n+---+---+---+---+---+---+---+\n| 0 | 0 | 0 | 0 | 0 | 0 | 0 |\n+---+---+---+---+---+---+---+\n| 0 | 0 | 0 | 0 | 0 | 0 | 0 |\n+---+---+---+---+---+---+---+\n\n"
    }
   ],
   "source": [
    "test_env = make(\"connectx\", debug=True)\n",
    "test_env.render()"
   ]
  },
  {
   "cell_type": "code",
   "execution_count": 52,
   "metadata": {},
   "outputs": [],
   "source": [
    "columns = test_env.configuration['columns']\n",
    "rows = test_env.configuration['rows']"
   ]
  },
  {
   "cell_type": "code",
   "execution_count": 53,
   "metadata": {},
   "outputs": [],
   "source": [
    "test_buffer = ExperienceBuffer(30)\n",
    "agent = Agent(test_env, test_buffer)\n",
    "epsilon = 0.5\n",
    "input_shape = [1, rows, columns]\n",
    "n_actions = columns\n",
    "net = DQN(input_shape, n_actions)"
   ]
  },
  {
   "cell_type": "code",
   "execution_count": 68,
   "metadata": {},
   "outputs": [
    {
     "name": "stdout",
     "output_type": "stream",
     "text": "+---+---+---+---+---+---+---+\n| 0 | 0 | 0 | 0 | 0 | 0 | 0 |\n+---+---+---+---+---+---+---+\n| 0 | 0 | 0 | 0 | 0 | 0 | 0 |\n+---+---+---+---+---+---+---+\n| 0 | 0 | 0 | 0 | 0 | 0 | 0 |\n+---+---+---+---+---+---+---+\n| 0 | 0 | 0 | 0 | 0 | 0 | 0 |\n+---+---+---+---+---+---+---+\n| 2 | 0 | 0 | 0 | 1 | 0 | 0 |\n+---+---+---+---+---+---+---+\n| 2 | 0 | 0 | 1 | 2 | 1 | 0 |\n+---+---+---+---+---+---+---+\n\n6\n"
    }
   ],
   "source": [
    "test_env.render()\n",
    "agent.play_step(net, epsilon)"
   ]
  },
  {
   "cell_type": "code",
   "execution_count": 69,
   "metadata": {},
   "outputs": [
    {
     "name": "stdout",
     "output_type": "stream",
     "text": "+---+---+---+---+---+---+---+\n| 0 | 0 | 0 | 0 | 0 | 0 | 0 |\n+---+---+---+---+---+---+---+\n| 0 | 0 | 0 | 0 | 0 | 0 | 0 |\n+---+---+---+---+---+---+---+\n| 0 | 0 | 0 | 0 | 0 | 0 | 0 |\n+---+---+---+---+---+---+---+\n| 2 | 0 | 0 | 0 | 0 | 0 | 0 |\n+---+---+---+---+---+---+---+\n| 2 | 0 | 0 | 0 | 1 | 0 | 0 |\n+---+---+---+---+---+---+---+\n| 2 | 0 | 0 | 1 | 2 | 1 | 1 |\n+---+---+---+---+---+---+---+\n\n"
    }
   ],
   "source": [
    "test_env.render()"
   ]
  },
  {
   "cell_type": "code",
   "execution_count": 18,
   "metadata": {},
   "outputs": [],
   "source": [
    "for i in range(50):    \n",
    "    agent.play_step(net, epsilon)"
   ]
  },
  {
   "cell_type": "code",
   "execution_count": 28,
   "metadata": {},
   "outputs": [],
   "source": [
    "observation, actions, rewards, dones, next_observation = test_buffer.sample(10)"
   ]
  },
  {
   "cell_type": "code",
   "execution_count": 29,
   "metadata": {},
   "outputs": [
    {
     "data": {
      "text/plain": "array([[[[0, 0, 0, 0, 0, 0, 0],\n         [0, 0, 0, 0, 0, 0, 0],\n         [0, 0, 0, 0, 0, 0, 0],\n         [0, 0, 0, 0, 0, 0, 0],\n         [0, 0, 0, 0, 0, 0, 0],\n         [2, 0, 0, 0, 1, 0, 0]]],\n\n\n       [[[0, 0, 0, 0, 0, 0, 0],\n         [0, 0, 0, 0, 0, 0, 0],\n         [0, 0, 0, 0, 0, 1, 0],\n         [0, 0, 0, 0, 2, 1, 0],\n         [0, 0, 0, 0, 2, 2, 0],\n         [0, 1, 2, 1, 2, 1, 0]]],\n\n\n       [[[2, 0, 0, 0, 0, 0, 0],\n         [2, 0, 0, 0, 0, 1, 0],\n         [1, 0, 0, 0, 0, 2, 0],\n         [2, 0, 0, 0, 0, 1, 0],\n         [2, 2, 1, 2, 1, 1, 0],\n         [2, 2, 1, 2, 1, 1, 1]]],\n\n\n       [[[0, 0, 0, 0, 0, 0, 0],\n         [0, 0, 0, 0, 0, 0, 0],\n         [0, 0, 0, 0, 0, 0, 0],\n         [0, 0, 0, 0, 0, 0, 0],\n         [0, 0, 0, 0, 0, 1, 0],\n         [0, 0, 0, 2, 2, 1, 0]]],\n\n\n       [[[2, 0, 0, 0, 0, 0, 0],\n         [2, 0, 0, 0, 0, 1, 0],\n         [1, 0, 0, 0, 0, 2, 0],\n         [2, 2, 0, 1, 0, 1, 0],\n         [2, 2, 1, 2, 1, 1, 0],\n         [2, 2, 1, 2, 1, 1, 1]]],\n\n\n       [[[0, 0, 0, 0, 0, 0, 0],\n         [0, 0, 0, 0, 0, 0, 0],\n         [0, 0, 0, 0, 0, 0, 0],\n         [0, 0, 0, 0, 0, 0, 0],\n         [0, 0, 0, 0, 0, 0, 0],\n         [0, 0, 0, 0, 2, 1, 0]]],\n\n\n       [[[0, 0, 0, 0, 0, 0, 0],\n         [2, 0, 0, 0, 0, 0, 0],\n         [1, 0, 0, 0, 0, 0, 0],\n         [2, 0, 0, 0, 0, 0, 0],\n         [2, 0, 0, 0, 1, 0, 0],\n         [2, 0, 0, 2, 1, 1, 1]]],\n\n\n       [[[0, 0, 0, 0, 0, 0, 0],\n         [0, 0, 0, 0, 0, 0, 0],\n         [0, 0, 0, 0, 0, 0, 0],\n         [0, 0, 0, 0, 0, 0, 0],\n         [0, 0, 0, 0, 0, 1, 0],\n         [0, 2, 2, 0, 0, 1, 0]]],\n\n\n       [[[0, 0, 0, 0, 0, 0, 0],\n         [0, 0, 0, 0, 0, 1, 0],\n         [0, 0, 0, 0, 0, 1, 0],\n         [0, 0, 0, 0, 2, 1, 0],\n         [0, 0, 0, 0, 2, 2, 0],\n         [0, 1, 2, 1, 2, 1, 2]]],\n\n\n       [[[0, 0, 0, 0, 0, 0, 0],\n         [0, 0, 0, 0, 0, 0, 0],\n         [0, 0, 0, 0, 0, 0, 0],\n         [0, 0, 0, 0, 0, 0, 0],\n         [0, 0, 0, 0, 0, 1, 0],\n         [1, 2, 2, 2, 0, 1, 0]]]])"
     },
     "execution_count": 29,
     "metadata": {},
     "output_type": "execute_result"
    }
   ],
   "source": [
    "observation"
   ]
  },
  {
   "cell_type": "code",
   "execution_count": 31,
   "metadata": {},
   "outputs": [
    {
     "data": {
      "text/plain": "array([6, 5, 3, 5, 5, 3, 5, 0, 2, 5])"
     },
     "execution_count": 31,
     "metadata": {},
     "output_type": "execute_result"
    }
   ],
   "source": [
    "actions"
   ]
  },
  {
   "cell_type": "code",
   "execution_count": 30,
   "metadata": {},
   "outputs": [
    {
     "data": {
      "text/plain": "array([0, 0, 0, 0, 1, 0, 0, 0, 0, 0], dtype=uint8)"
     },
     "execution_count": 30,
     "metadata": {},
     "output_type": "execute_result"
    }
   ],
   "source": [
    "dones"
   ]
  },
  {
   "cell_type": "code",
   "execution_count": 32,
   "metadata": {},
   "outputs": [
    {
     "data": {
      "text/plain": "array([1., 1., 1., 1., 0., 1., 1., 1., 1., 1.], dtype=float32)"
     },
     "execution_count": 32,
     "metadata": {},
     "output_type": "execute_result"
    }
   ],
   "source": [
    "rewards"
   ]
  },
  {
   "cell_type": "code",
   "execution_count": 210,
   "metadata": {},
   "outputs": [
    {
     "name": "stdout",
     "output_type": "stream",
     "text": "2\n+---+---+---+---+---+---+---+\n| 0 | 0 | 0 | 0 | 0 | 0 | 0 |\n+---+---+---+---+---+---+---+\n| 0 | 0 | 0 | 0 | 0 | 0 | 0 |\n+---+---+---+---+---+---+---+\n| 0 | 0 | 0 | 0 | 0 | 0 | 0 |\n+---+---+---+---+---+---+---+\n| 0 | 0 | 0 | 0 | 0 | 0 | 0 |\n+---+---+---+---+---+---+---+\n| 0 | 0 | 0 | 0 | 0 | 0 | 0 |\n+---+---+---+---+---+---+---+\n| 0 | 0 | 0 | 0 | 0 | 0 | 0 |\n+---+---+---+---+---+---+---+\n\n"
    }
   ],
   "source": [
    "agent.play_step(net, epsilon)\n",
    "test_env.render()"
   ]
  },
  {
   "cell_type": "code",
   "execution_count": 21,
   "metadata": {},
   "outputs": [],
   "source": [
    "def calc_loss(batch, net, tgt_net, device='cpu'):\n",
    "    observation, actions, rewards, dones, next_observation = batch\n",
    "\n",
    "    observation_v = torch.from_numpy(observation).float().to(device)\n",
    "    next_observation_v = torch.from_numpy(next_observation).float().to(device)\n",
    "    action_v = torch.from_numpy(actions).to(device)\n",
    "    rewards_v = torch.from_numpy(rewards).to(device)\n",
    "    done_mask = torch.from_numpy(dones).to(device)\n",
    "\n",
    "    state_action_value = net(observation_v).gather(1, action_v.unsqueeze(-1)).squeeze(-1)\n",
    "    with torch.no_grad():\n",
    "        next_observation_values = tgt_net(next_observation_v).max(1)[0]\n",
    "        next_observation_values[done_mask] = 0.0\n",
    "        next_observation_values = next_observation_values.detach()\n",
    "\n",
    "    expected_state_action_values = next_observation_values * GAMMA + rewards_v\n",
    "\n",
    "    loss = nn.MSELoss()\n",
    "    return loss(state_action_value, expected_state_action_values)"
   ]
  },
  {
   "cell_type": "code",
   "execution_count": 22,
   "metadata": {},
   "outputs": [],
   "source": [
    "GAMMA = 0.99\n",
    "BATCH_SIZE = 4096\n",
    "REPLAY_SIZE = 500000\n",
    "LEARNING_RATE = 1e-4\n",
    "SYNC_TARGET_FRAMES = 5000\n",
    "REPLAY_START_SIZE = 5000\n",
    "\n",
    "EPSILON_DECAY_LAST_FRAME = 80000\n",
    "EPSILON_START = 1.0\n",
    "EPSILON_FINAL = 0.01"
   ]
  },
  {
   "cell_type": "code",
   "execution_count": 23,
   "metadata": {},
   "outputs": [
    {
     "name": "stdout",
     "output_type": "stream",
     "text": "Run using cuda\n"
    }
   ],
   "source": [
    "env = make(\"connectx\", debug=True)\n",
    "rows, columns = env.configuration['rows'], env.configuration['columns']\n",
    "input_shape = [1, rows, columns]\n",
    "n_actions = columns\n",
    "device = torch.device(\"cuda\" if torch.cuda.is_available else 'cpu')\n",
    "print(f\"Run using {device}\")"
   ]
  },
  {
   "cell_type": "code",
   "execution_count": 24,
   "metadata": {},
   "outputs": [],
   "source": [
    "net = DQN(input_shape, n_actions).to(device)    \n",
    "tgt_net = DQN(input_shape, n_actions).to(device)\n",
    "\n",
    "buffer = ExperienceBuffer(REPLAY_SIZE)\n",
    "agent = Agent(env, buffer)\n",
    "epsilon = EPSILON_START\n",
    "\n",
    "optimizer = optim.Adam(net.parameters(), lr=LEARNING_RATE)\n",
    "total_rewards = []\n",
    "frame_idx = 0\n",
    "ts_frame = 0\n",
    "ts = time.time()\n",
    "best_m_reward = None"
   ]
  },
  {
   "cell_type": "code",
   "execution_count": 25,
   "metadata": {},
   "outputs": [],
   "source": [
    "reward_for_plot = []\n",
    "mean_reward_for_plot = []\n",
    "loss_for_plot = []"
   ]
  },
  {
   "cell_type": "code",
   "execution_count": 56,
   "metadata": {},
   "outputs": [
    {
     "ename": "RuntimeError",
     "evalue": "Input type (torch.cuda.FloatTensor) and weight type (torch.FloatTensor) should be the same",
     "output_type": "error",
     "traceback": [
      "\u001b[0;31m---------------------------------------------------------------------------\u001b[0m",
      "\u001b[0;31mRuntimeError\u001b[0m                              Traceback (most recent call last)",
      "\u001b[0;32m<ipython-input-56-7c8b13c07a96>\u001b[0m in \u001b[0;36m<module>\u001b[0;34m\u001b[0m\n\u001b[1;32m      2\u001b[0m     \u001b[0mframe_idx\u001b[0m \u001b[0;34m+=\u001b[0m \u001b[0;36m1\u001b[0m\u001b[0;34m\u001b[0m\u001b[0;34m\u001b[0m\u001b[0m\n\u001b[1;32m      3\u001b[0m     \u001b[0mepsilon\u001b[0m \u001b[0;34m=\u001b[0m \u001b[0mmax\u001b[0m\u001b[0;34m(\u001b[0m\u001b[0mEPSILON_FINAL\u001b[0m\u001b[0;34m,\u001b[0m \u001b[0mEPSILON_START\u001b[0m \u001b[0;34m-\u001b[0m \u001b[0mframe_idx\u001b[0m \u001b[0;34m/\u001b[0m \u001b[0mEPSILON_DECAY_LAST_FRAME\u001b[0m\u001b[0;34m)\u001b[0m\u001b[0;34m\u001b[0m\u001b[0;34m\u001b[0m\u001b[0m\n\u001b[0;32m----> 4\u001b[0;31m     \u001b[0mreward\u001b[0m \u001b[0;34m=\u001b[0m \u001b[0magent\u001b[0m\u001b[0;34m.\u001b[0m\u001b[0mplay_step\u001b[0m\u001b[0;34m(\u001b[0m\u001b[0mnet\u001b[0m\u001b[0;34m,\u001b[0m \u001b[0mepsilon\u001b[0m\u001b[0;34m,\u001b[0m \u001b[0mdevice\u001b[0m\u001b[0;34m=\u001b[0m\u001b[0mdevice\u001b[0m\u001b[0;34m)\u001b[0m\u001b[0;34m\u001b[0m\u001b[0;34m\u001b[0m\u001b[0m\n\u001b[0m\u001b[1;32m      5\u001b[0m     \u001b[0;32mif\u001b[0m \u001b[0mreward\u001b[0m \u001b[0;32mis\u001b[0m \u001b[0;32mnot\u001b[0m \u001b[0;32mNone\u001b[0m\u001b[0;34m:\u001b[0m\u001b[0;34m\u001b[0m\u001b[0;34m\u001b[0m\u001b[0m\n\u001b[1;32m      6\u001b[0m         \u001b[0mtotal_rewards\u001b[0m\u001b[0;34m.\u001b[0m\u001b[0mappend\u001b[0m\u001b[0;34m(\u001b[0m\u001b[0mreward\u001b[0m\u001b[0;34m)\u001b[0m\u001b[0;34m\u001b[0m\u001b[0;34m\u001b[0m\u001b[0m\n",
      "\u001b[0;32m~/.local/lib/python3.8/site-packages/torch/autograd/grad_mode.py\u001b[0m in \u001b[0;36mdecorate_no_grad\u001b[0;34m(*args, **kwargs)\u001b[0m\n\u001b[1;32m     47\u001b[0m         \u001b[0;32mdef\u001b[0m \u001b[0mdecorate_no_grad\u001b[0m\u001b[0;34m(\u001b[0m\u001b[0;34m*\u001b[0m\u001b[0margs\u001b[0m\u001b[0;34m,\u001b[0m \u001b[0;34m**\u001b[0m\u001b[0mkwargs\u001b[0m\u001b[0;34m)\u001b[0m\u001b[0;34m:\u001b[0m\u001b[0;34m\u001b[0m\u001b[0;34m\u001b[0m\u001b[0m\n\u001b[1;32m     48\u001b[0m             \u001b[0;32mwith\u001b[0m \u001b[0mself\u001b[0m\u001b[0;34m:\u001b[0m\u001b[0;34m\u001b[0m\u001b[0;34m\u001b[0m\u001b[0m\n\u001b[0;32m---> 49\u001b[0;31m                 \u001b[0;32mreturn\u001b[0m \u001b[0mfunc\u001b[0m\u001b[0;34m(\u001b[0m\u001b[0;34m*\u001b[0m\u001b[0margs\u001b[0m\u001b[0;34m,\u001b[0m \u001b[0;34m**\u001b[0m\u001b[0mkwargs\u001b[0m\u001b[0;34m)\u001b[0m\u001b[0;34m\u001b[0m\u001b[0;34m\u001b[0m\u001b[0m\n\u001b[0m\u001b[1;32m     50\u001b[0m         \u001b[0;32mreturn\u001b[0m \u001b[0mdecorate_no_grad\u001b[0m\u001b[0;34m\u001b[0m\u001b[0;34m\u001b[0m\u001b[0m\n\u001b[1;32m     51\u001b[0m \u001b[0;34m\u001b[0m\u001b[0m\n",
      "\u001b[0;32m<ipython-input-50-23685798e8bf>\u001b[0m in \u001b[0;36mplay_step\u001b[0;34m(self, net, epsilon, device)\u001b[0m\n\u001b[1;32m     54\u001b[0m             \u001b[0;31m# Unsqueeze for batch size\u001b[0m\u001b[0;34m\u001b[0m\u001b[0;34m\u001b[0m\u001b[0;34m\u001b[0m\u001b[0m\n\u001b[1;32m     55\u001b[0m             \u001b[0;31m# [batch_size, channel, row, column]\u001b[0m\u001b[0;34m\u001b[0m\u001b[0;34m\u001b[0m\u001b[0;34m\u001b[0m\u001b[0m\n\u001b[0;32m---> 56\u001b[0;31m             \u001b[0mq_vals_v\u001b[0m \u001b[0;34m=\u001b[0m \u001b[0mnet\u001b[0m\u001b[0;34m(\u001b[0m\u001b[0mobservation_v\u001b[0m\u001b[0;34m.\u001b[0m\u001b[0munsqueeze\u001b[0m\u001b[0;34m(\u001b[0m\u001b[0;36m0\u001b[0m\u001b[0;34m)\u001b[0m\u001b[0;34m)\u001b[0m\u001b[0;34m\u001b[0m\u001b[0;34m\u001b[0m\u001b[0m\n\u001b[0m\u001b[1;32m     57\u001b[0m             \u001b[0maction\u001b[0m \u001b[0;34m=\u001b[0m \u001b[0mself\u001b[0m\u001b[0;34m.\u001b[0m\u001b[0m_select_network_action\u001b[0m\u001b[0;34m(\u001b[0m\u001b[0mq_vals_v\u001b[0m\u001b[0;34m)\u001b[0m\u001b[0;34m\u001b[0m\u001b[0;34m\u001b[0m\u001b[0m\n\u001b[1;32m     58\u001b[0m \u001b[0;34m\u001b[0m\u001b[0m\n",
      "\u001b[0;32m~/.local/lib/python3.8/site-packages/torch/nn/modules/module.py\u001b[0m in \u001b[0;36m__call__\u001b[0;34m(self, *input, **kwargs)\u001b[0m\n\u001b[1;32m    530\u001b[0m             \u001b[0mresult\u001b[0m \u001b[0;34m=\u001b[0m \u001b[0mself\u001b[0m\u001b[0;34m.\u001b[0m\u001b[0m_slow_forward\u001b[0m\u001b[0;34m(\u001b[0m\u001b[0;34m*\u001b[0m\u001b[0minput\u001b[0m\u001b[0;34m,\u001b[0m \u001b[0;34m**\u001b[0m\u001b[0mkwargs\u001b[0m\u001b[0;34m)\u001b[0m\u001b[0;34m\u001b[0m\u001b[0;34m\u001b[0m\u001b[0m\n\u001b[1;32m    531\u001b[0m         \u001b[0;32melse\u001b[0m\u001b[0;34m:\u001b[0m\u001b[0;34m\u001b[0m\u001b[0;34m\u001b[0m\u001b[0m\n\u001b[0;32m--> 532\u001b[0;31m             \u001b[0mresult\u001b[0m \u001b[0;34m=\u001b[0m \u001b[0mself\u001b[0m\u001b[0;34m.\u001b[0m\u001b[0mforward\u001b[0m\u001b[0;34m(\u001b[0m\u001b[0;34m*\u001b[0m\u001b[0minput\u001b[0m\u001b[0;34m,\u001b[0m \u001b[0;34m**\u001b[0m\u001b[0mkwargs\u001b[0m\u001b[0;34m)\u001b[0m\u001b[0;34m\u001b[0m\u001b[0;34m\u001b[0m\u001b[0m\n\u001b[0m\u001b[1;32m    533\u001b[0m         \u001b[0;32mfor\u001b[0m \u001b[0mhook\u001b[0m \u001b[0;32min\u001b[0m \u001b[0mself\u001b[0m\u001b[0;34m.\u001b[0m\u001b[0m_forward_hooks\u001b[0m\u001b[0;34m.\u001b[0m\u001b[0mvalues\u001b[0m\u001b[0;34m(\u001b[0m\u001b[0;34m)\u001b[0m\u001b[0;34m:\u001b[0m\u001b[0;34m\u001b[0m\u001b[0;34m\u001b[0m\u001b[0m\n\u001b[1;32m    534\u001b[0m             \u001b[0mhook_result\u001b[0m \u001b[0;34m=\u001b[0m \u001b[0mhook\u001b[0m\u001b[0;34m(\u001b[0m\u001b[0mself\u001b[0m\u001b[0;34m,\u001b[0m \u001b[0minput\u001b[0m\u001b[0;34m,\u001b[0m \u001b[0mresult\u001b[0m\u001b[0;34m)\u001b[0m\u001b[0;34m\u001b[0m\u001b[0;34m\u001b[0m\u001b[0m\n",
      "\u001b[0;32m<ipython-input-17-e7382af73a37>\u001b[0m in \u001b[0;36mforward\u001b[0;34m(self, x)\u001b[0m\n\u001b[1;32m     38\u001b[0m \u001b[0;34m\u001b[0m\u001b[0m\n\u001b[1;32m     39\u001b[0m     \u001b[0;32mdef\u001b[0m \u001b[0mforward\u001b[0m\u001b[0;34m(\u001b[0m\u001b[0mself\u001b[0m\u001b[0;34m,\u001b[0m \u001b[0mx\u001b[0m\u001b[0;34m)\u001b[0m\u001b[0;34m:\u001b[0m\u001b[0;34m\u001b[0m\u001b[0;34m\u001b[0m\u001b[0m\n\u001b[0;32m---> 40\u001b[0;31m         \u001b[0mconv_out\u001b[0m \u001b[0;34m=\u001b[0m \u001b[0mself\u001b[0m\u001b[0;34m.\u001b[0m\u001b[0mconv\u001b[0m\u001b[0;34m(\u001b[0m\u001b[0mx\u001b[0m\u001b[0;34m)\u001b[0m\u001b[0;34m\u001b[0m\u001b[0;34m\u001b[0m\u001b[0m\n\u001b[0m\u001b[1;32m     41\u001b[0m         \u001b[0mfc_out\u001b[0m \u001b[0;34m=\u001b[0m \u001b[0mself\u001b[0m\u001b[0;34m.\u001b[0m\u001b[0mfc\u001b[0m\u001b[0;34m(\u001b[0m\u001b[0mconv_out\u001b[0m\u001b[0;34m)\u001b[0m\u001b[0;34m\u001b[0m\u001b[0;34m\u001b[0m\u001b[0m\n\u001b[1;32m     42\u001b[0m         \u001b[0;32mreturn\u001b[0m \u001b[0mfc_out\u001b[0m\u001b[0;34m\u001b[0m\u001b[0;34m\u001b[0m\u001b[0m\n",
      "\u001b[0;32m~/.local/lib/python3.8/site-packages/torch/nn/modules/module.py\u001b[0m in \u001b[0;36m__call__\u001b[0;34m(self, *input, **kwargs)\u001b[0m\n\u001b[1;32m    530\u001b[0m             \u001b[0mresult\u001b[0m \u001b[0;34m=\u001b[0m \u001b[0mself\u001b[0m\u001b[0;34m.\u001b[0m\u001b[0m_slow_forward\u001b[0m\u001b[0;34m(\u001b[0m\u001b[0;34m*\u001b[0m\u001b[0minput\u001b[0m\u001b[0;34m,\u001b[0m \u001b[0;34m**\u001b[0m\u001b[0mkwargs\u001b[0m\u001b[0;34m)\u001b[0m\u001b[0;34m\u001b[0m\u001b[0;34m\u001b[0m\u001b[0m\n\u001b[1;32m    531\u001b[0m         \u001b[0;32melse\u001b[0m\u001b[0;34m:\u001b[0m\u001b[0;34m\u001b[0m\u001b[0;34m\u001b[0m\u001b[0m\n\u001b[0;32m--> 532\u001b[0;31m             \u001b[0mresult\u001b[0m \u001b[0;34m=\u001b[0m \u001b[0mself\u001b[0m\u001b[0;34m.\u001b[0m\u001b[0mforward\u001b[0m\u001b[0;34m(\u001b[0m\u001b[0;34m*\u001b[0m\u001b[0minput\u001b[0m\u001b[0;34m,\u001b[0m \u001b[0;34m**\u001b[0m\u001b[0mkwargs\u001b[0m\u001b[0;34m)\u001b[0m\u001b[0;34m\u001b[0m\u001b[0;34m\u001b[0m\u001b[0m\n\u001b[0m\u001b[1;32m    533\u001b[0m         \u001b[0;32mfor\u001b[0m \u001b[0mhook\u001b[0m \u001b[0;32min\u001b[0m \u001b[0mself\u001b[0m\u001b[0;34m.\u001b[0m\u001b[0m_forward_hooks\u001b[0m\u001b[0;34m.\u001b[0m\u001b[0mvalues\u001b[0m\u001b[0;34m(\u001b[0m\u001b[0;34m)\u001b[0m\u001b[0;34m:\u001b[0m\u001b[0;34m\u001b[0m\u001b[0;34m\u001b[0m\u001b[0m\n\u001b[1;32m    534\u001b[0m             \u001b[0mhook_result\u001b[0m \u001b[0;34m=\u001b[0m \u001b[0mhook\u001b[0m\u001b[0;34m(\u001b[0m\u001b[0mself\u001b[0m\u001b[0;34m,\u001b[0m \u001b[0minput\u001b[0m\u001b[0;34m,\u001b[0m \u001b[0mresult\u001b[0m\u001b[0;34m)\u001b[0m\u001b[0;34m\u001b[0m\u001b[0;34m\u001b[0m\u001b[0m\n",
      "\u001b[0;32m~/.local/lib/python3.8/site-packages/torch/nn/modules/container.py\u001b[0m in \u001b[0;36mforward\u001b[0;34m(self, input)\u001b[0m\n\u001b[1;32m     98\u001b[0m     \u001b[0;32mdef\u001b[0m \u001b[0mforward\u001b[0m\u001b[0;34m(\u001b[0m\u001b[0mself\u001b[0m\u001b[0;34m,\u001b[0m \u001b[0minput\u001b[0m\u001b[0;34m)\u001b[0m\u001b[0;34m:\u001b[0m\u001b[0;34m\u001b[0m\u001b[0;34m\u001b[0m\u001b[0m\n\u001b[1;32m     99\u001b[0m         \u001b[0;32mfor\u001b[0m \u001b[0mmodule\u001b[0m \u001b[0;32min\u001b[0m \u001b[0mself\u001b[0m\u001b[0;34m:\u001b[0m\u001b[0;34m\u001b[0m\u001b[0;34m\u001b[0m\u001b[0m\n\u001b[0;32m--> 100\u001b[0;31m             \u001b[0minput\u001b[0m \u001b[0;34m=\u001b[0m \u001b[0mmodule\u001b[0m\u001b[0;34m(\u001b[0m\u001b[0minput\u001b[0m\u001b[0;34m)\u001b[0m\u001b[0;34m\u001b[0m\u001b[0;34m\u001b[0m\u001b[0m\n\u001b[0m\u001b[1;32m    101\u001b[0m         \u001b[0;32mreturn\u001b[0m \u001b[0minput\u001b[0m\u001b[0;34m\u001b[0m\u001b[0;34m\u001b[0m\u001b[0m\n\u001b[1;32m    102\u001b[0m \u001b[0;34m\u001b[0m\u001b[0m\n",
      "\u001b[0;32m~/.local/lib/python3.8/site-packages/torch/nn/modules/module.py\u001b[0m in \u001b[0;36m__call__\u001b[0;34m(self, *input, **kwargs)\u001b[0m\n\u001b[1;32m    530\u001b[0m             \u001b[0mresult\u001b[0m \u001b[0;34m=\u001b[0m \u001b[0mself\u001b[0m\u001b[0;34m.\u001b[0m\u001b[0m_slow_forward\u001b[0m\u001b[0;34m(\u001b[0m\u001b[0;34m*\u001b[0m\u001b[0minput\u001b[0m\u001b[0;34m,\u001b[0m \u001b[0;34m**\u001b[0m\u001b[0mkwargs\u001b[0m\u001b[0;34m)\u001b[0m\u001b[0;34m\u001b[0m\u001b[0;34m\u001b[0m\u001b[0m\n\u001b[1;32m    531\u001b[0m         \u001b[0;32melse\u001b[0m\u001b[0;34m:\u001b[0m\u001b[0;34m\u001b[0m\u001b[0;34m\u001b[0m\u001b[0m\n\u001b[0;32m--> 532\u001b[0;31m             \u001b[0mresult\u001b[0m \u001b[0;34m=\u001b[0m \u001b[0mself\u001b[0m\u001b[0;34m.\u001b[0m\u001b[0mforward\u001b[0m\u001b[0;34m(\u001b[0m\u001b[0;34m*\u001b[0m\u001b[0minput\u001b[0m\u001b[0;34m,\u001b[0m \u001b[0;34m**\u001b[0m\u001b[0mkwargs\u001b[0m\u001b[0;34m)\u001b[0m\u001b[0;34m\u001b[0m\u001b[0;34m\u001b[0m\u001b[0m\n\u001b[0m\u001b[1;32m    533\u001b[0m         \u001b[0;32mfor\u001b[0m \u001b[0mhook\u001b[0m \u001b[0;32min\u001b[0m \u001b[0mself\u001b[0m\u001b[0;34m.\u001b[0m\u001b[0m_forward_hooks\u001b[0m\u001b[0;34m.\u001b[0m\u001b[0mvalues\u001b[0m\u001b[0;34m(\u001b[0m\u001b[0;34m)\u001b[0m\u001b[0;34m:\u001b[0m\u001b[0;34m\u001b[0m\u001b[0;34m\u001b[0m\u001b[0m\n\u001b[1;32m    534\u001b[0m             \u001b[0mhook_result\u001b[0m \u001b[0;34m=\u001b[0m \u001b[0mhook\u001b[0m\u001b[0;34m(\u001b[0m\u001b[0mself\u001b[0m\u001b[0;34m,\u001b[0m \u001b[0minput\u001b[0m\u001b[0;34m,\u001b[0m \u001b[0mresult\u001b[0m\u001b[0;34m)\u001b[0m\u001b[0;34m\u001b[0m\u001b[0;34m\u001b[0m\u001b[0m\n",
      "\u001b[0;32m~/.local/lib/python3.8/site-packages/torch/nn/modules/conv.py\u001b[0m in \u001b[0;36mforward\u001b[0;34m(self, input)\u001b[0m\n\u001b[1;32m    343\u001b[0m \u001b[0;34m\u001b[0m\u001b[0m\n\u001b[1;32m    344\u001b[0m     \u001b[0;32mdef\u001b[0m \u001b[0mforward\u001b[0m\u001b[0;34m(\u001b[0m\u001b[0mself\u001b[0m\u001b[0;34m,\u001b[0m \u001b[0minput\u001b[0m\u001b[0;34m)\u001b[0m\u001b[0;34m:\u001b[0m\u001b[0;34m\u001b[0m\u001b[0;34m\u001b[0m\u001b[0m\n\u001b[0;32m--> 345\u001b[0;31m         \u001b[0;32mreturn\u001b[0m \u001b[0mself\u001b[0m\u001b[0;34m.\u001b[0m\u001b[0mconv2d_forward\u001b[0m\u001b[0;34m(\u001b[0m\u001b[0minput\u001b[0m\u001b[0;34m,\u001b[0m \u001b[0mself\u001b[0m\u001b[0;34m.\u001b[0m\u001b[0mweight\u001b[0m\u001b[0;34m)\u001b[0m\u001b[0;34m\u001b[0m\u001b[0;34m\u001b[0m\u001b[0m\n\u001b[0m\u001b[1;32m    346\u001b[0m \u001b[0;34m\u001b[0m\u001b[0m\n\u001b[1;32m    347\u001b[0m \u001b[0;32mclass\u001b[0m \u001b[0mConv3d\u001b[0m\u001b[0;34m(\u001b[0m\u001b[0m_ConvNd\u001b[0m\u001b[0;34m)\u001b[0m\u001b[0;34m:\u001b[0m\u001b[0;34m\u001b[0m\u001b[0;34m\u001b[0m\u001b[0m\n",
      "\u001b[0;32m~/.local/lib/python3.8/site-packages/torch/nn/modules/conv.py\u001b[0m in \u001b[0;36mconv2d_forward\u001b[0;34m(self, input, weight)\u001b[0m\n\u001b[1;32m    339\u001b[0m                             \u001b[0mweight\u001b[0m\u001b[0;34m,\u001b[0m \u001b[0mself\u001b[0m\u001b[0;34m.\u001b[0m\u001b[0mbias\u001b[0m\u001b[0;34m,\u001b[0m \u001b[0mself\u001b[0m\u001b[0;34m.\u001b[0m\u001b[0mstride\u001b[0m\u001b[0;34m,\u001b[0m\u001b[0;34m\u001b[0m\u001b[0;34m\u001b[0m\u001b[0m\n\u001b[1;32m    340\u001b[0m                             _pair(0), self.dilation, self.groups)\n\u001b[0;32m--> 341\u001b[0;31m         return F.conv2d(input, weight, self.bias, self.stride,\n\u001b[0m\u001b[1;32m    342\u001b[0m                         self.padding, self.dilation, self.groups)\n\u001b[1;32m    343\u001b[0m \u001b[0;34m\u001b[0m\u001b[0m\n",
      "\u001b[0;31mRuntimeError\u001b[0m: Input type (torch.cuda.FloatTensor) and weight type (torch.FloatTensor) should be the same"
     ]
    }
   ],
   "source": [
    "while True:\n",
    "    frame_idx += 1\n",
    "    epsilon = max(EPSILON_FINAL, EPSILON_START - frame_idx / EPSILON_DECAY_LAST_FRAME)   \n",
    "    reward = agent.play_step(net, epsilon, device=device)\n",
    "    if reward is not None:\n",
    "        total_rewards.append(reward)\n",
    "        speed = (frame_idx - ts_frame) / (time.time() - ts)\n",
    "        ts_frame = frame_idx\n",
    "        ts = time.time()\n",
    "        m_reward = np.mean(total_rewards[-10:])\n",
    "        print(\"%d : done %d games, reward %.3f, eps %.2f, speed %.2f f/s\" % (frame_idx, len(total_rewards), m_reward, epsilon, speed))\n",
    "\n",
    "        if best_m_reward is None or best_m_reward < m_reward:\n",
    "            torch.save(net.state_dict(), \"best_%.0f.pth\" % m_reward)\n",
    "            if best_m_reward is not None:\n",
    "                print(\"Best reward updated %.3f -> %.3f\" % (best_m_reward, m_reward))\n",
    "            best_m_reward = m_reward\n",
    "\n",
    "    if len(buffer) < REPLAY_START_SIZE:\n",
    "        continue\n",
    "  \n",
    "    if frame_idx % SYNC_TARGET_FRAMES == 0:\n",
    "        tgt_net.load_state_dict(net.state_dict())\n",
    "        print(\"Sync\")\n",
    "\n",
    "    optimizer.zero_grad()\n",
    "    batch = buffer.sample(BATCH_SIZE)\n",
    "    loss_t = calc_loss(batch, net, tgt_net, device=device)\n",
    "    loss_t.backward()\n",
    "    optimizer.step()\n",
    "\n",
    "\n",
    "    if frame_idx is not 0 and frame_idx % 5000 == 0:\n",
    "        reward_for_plot.append(reward)\n",
    "        mean_reward_for_plot.append(m_reward)\n",
    "        loss_for_plot.append(loss_t)\n",
    "        print(\"Append data\")"
   ]
  },
  {
   "cell_type": "code",
   "execution_count": 82,
   "metadata": {},
   "outputs": [],
   "source": [
    "valid_env = make(\"connectx\")\n",
    "valid_env.reset()\n",
    "valid_trainer = valid_env.train([None, \"negamax\"])\n",
    "valid_observation = valid_trainer.reset()\n",
    "path = \"./weights/best_16.pth\"\n",
    "path2 = \"./win_best_17.pth\""
   ]
  },
  {
   "cell_type": "code",
   "execution_count": 170,
   "metadata": {},
   "outputs": [],
   "source": [
    "import base64\n",
    "with open(path, 'rb') as f:\n",
    "    raw_bytes = f.read()\n",
    "    encoded_weights = base64.encodebytes(raw_bytes)\n",
    "\n",
    "with open(\"encoded_weights\" + 'b64', 'wb') as f:\n",
    "        f.write(encoded_weights)"
   ]
  },
  {
   "cell_type": "code",
   "execution_count": 171,
   "metadata": {},
   "outputs": [
    {
     "data": {
      "text/plain": "SVIPc5rUDww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\\njS89ITnFvp8Lsz4=\\n'"
     },
     "execution_count": 171,
     "metadata": {},
     "output_type": "execute_result"
    }
   ],
   "source": [
    "encoded_weights"
   ]
  },
  {
   "cell_type": "code",
   "execution_count": 149,
   "metadata": {},
   "outputs": [],
   "source": [
    "import io\n",
    "import base64\n",
    "import torch"
   ]
  },
  {
   "cell_type": "code",
   "execution_count": 150,
   "metadata": {},
   "outputs": [],
   "source": [
    "def select_network_action(q_vals_v, observation):\n",
    "    actions = torch.argsort(q_vals_v, descending=True, dim=1)\n",
    "    actions = actions.view(-1)\n",
    "\n",
    "    for action in actions:            \n",
    "        action = action.item()\n",
    "        if observation.board[action] == 0:                \n",
    "            return action"
   ]
  },
  {
   "cell_type": "code",
   "execution_count": 151,
   "metadata": {},
   "outputs": [],
   "source": [
    "def my_agent(observation, configuration):\n",
    "    decoded = base64.b64decode(encoded_weights)\n",
    "    buffer = io.BytesIO(decoded)\n",
    "\n",
    "    rows, columns = configuration['rows'], configuration['columns']\n",
    "    input_shape = [1, rows, columns]\n",
    "    n_actions = columns\n",
    "\n",
    "    board = observation['board']\n",
    "    np_board = np.array(board)\n",
    "    np_board = np_board.reshape(1, rows, -1)\n",
    "    assert np_board.shape[2] == columns\n",
    "    \n",
    "    net = DQN(input_shape, n_actions)\n",
    "    net.load_state_dict(torch.load(buffer))\n",
    "    net.eval()\n",
    "\n",
    "    observation_v = torch.from_numpy(np_board).float()\n",
    "    q_vals_v = net(observation_v.unsqueeze(0))\n",
    "    action = select_network_action(q_vals_v, observation)\n",
    "\n",
    "    return int(action)"
   ]
  },
  {
   "cell_type": "code",
   "execution_count": 152,
   "metadata": {},
   "outputs": [
    {
     "ename": "Error",
     "evalue": "Incorrect padding",
     "output_type": "error",
     "traceback": [
      "\u001b[0;31m---------------------------------------------------------------------------\u001b[0m",
      "\u001b[0;31mError\u001b[0m                                     Traceback (most recent call last)",
      "\u001b[0;32m<ipython-input-152-0827be54d162>\u001b[0m in \u001b[0;36m<module>\u001b[0;34m\u001b[0m\n\u001b[0;32m----> 1\u001b[0;31m \u001b[0maction\u001b[0m \u001b[0;34m=\u001b[0m \u001b[0mmy_agent\u001b[0m\u001b[0;34m(\u001b[0m\u001b[0mvalid_observation\u001b[0m\u001b[0;34m,\u001b[0m \u001b[0menv\u001b[0m\u001b[0;34m.\u001b[0m\u001b[0mconfiguration\u001b[0m\u001b[0;34m)\u001b[0m\u001b[0;34m\u001b[0m\u001b[0;34m\u001b[0m\u001b[0m\n\u001b[0m",
      "\u001b[0;32m<ipython-input-151-d8ebc9a7b4c0>\u001b[0m in \u001b[0;36mmy_agent\u001b[0;34m(observation, configuration)\u001b[0m\n\u001b[1;32m      1\u001b[0m \u001b[0;32mdef\u001b[0m \u001b[0mmy_agent\u001b[0m\u001b[0;34m(\u001b[0m\u001b[0mobservation\u001b[0m\u001b[0;34m,\u001b[0m \u001b[0mconfiguration\u001b[0m\u001b[0;34m)\u001b[0m\u001b[0;34m:\u001b[0m\u001b[0;34m\u001b[0m\u001b[0;34m\u001b[0m\u001b[0m\n\u001b[0;32m----> 2\u001b[0;31m     \u001b[0mdecoded\u001b[0m \u001b[0;34m=\u001b[0m \u001b[0mbase64\u001b[0m\u001b[0;34m.\u001b[0m\u001b[0mb64decode\u001b[0m\u001b[0;34m(\u001b[0m\u001b[0mencoded_weights\u001b[0m\u001b[0;34m)\u001b[0m\u001b[0;34m\u001b[0m\u001b[0;34m\u001b[0m\u001b[0m\n\u001b[0m\u001b[1;32m      3\u001b[0m     \u001b[0mbuffer\u001b[0m \u001b[0;34m=\u001b[0m \u001b[0mio\u001b[0m\u001b[0;34m.\u001b[0m\u001b[0mBytesIO\u001b[0m\u001b[0;34m(\u001b[0m\u001b[0mdecoded\u001b[0m\u001b[0;34m)\u001b[0m\u001b[0;34m\u001b[0m\u001b[0;34m\u001b[0m\u001b[0m\n\u001b[1;32m      4\u001b[0m \u001b[0;34m\u001b[0m\u001b[0m\n\u001b[1;32m      5\u001b[0m     \u001b[0mrows\u001b[0m\u001b[0;34m,\u001b[0m \u001b[0mcolumns\u001b[0m \u001b[0;34m=\u001b[0m \u001b[0mconfiguration\u001b[0m\u001b[0;34m[\u001b[0m\u001b[0;34m'rows'\u001b[0m\u001b[0;34m]\u001b[0m\u001b[0;34m,\u001b[0m \u001b[0mconfiguration\u001b[0m\u001b[0;34m[\u001b[0m\u001b[0;34m'columns'\u001b[0m\u001b[0;34m]\u001b[0m\u001b[0;34m\u001b[0m\u001b[0;34m\u001b[0m\u001b[0m\n",
      "\u001b[0;32m/usr/lib/python3.8/base64.py\u001b[0m in \u001b[0;36mb64decode\u001b[0;34m(s, altchars, validate)\u001b[0m\n\u001b[1;32m     85\u001b[0m     \u001b[0;32mif\u001b[0m \u001b[0mvalidate\u001b[0m \u001b[0;32mand\u001b[0m \u001b[0;32mnot\u001b[0m \u001b[0mre\u001b[0m\u001b[0;34m.\u001b[0m\u001b[0mmatch\u001b[0m\u001b[0;34m(\u001b[0m\u001b[0;34mb'^[A-Za-z0-9+/]*={0,2}$'\u001b[0m\u001b[0;34m,\u001b[0m \u001b[0ms\u001b[0m\u001b[0;34m)\u001b[0m\u001b[0;34m:\u001b[0m\u001b[0;34m\u001b[0m\u001b[0;34m\u001b[0m\u001b[0m\n\u001b[1;32m     86\u001b[0m         \u001b[0;32mraise\u001b[0m \u001b[0mbinascii\u001b[0m\u001b[0;34m.\u001b[0m\u001b[0mError\u001b[0m\u001b[0;34m(\u001b[0m\u001b[0;34m'Non-base64 digit found'\u001b[0m\u001b[0;34m)\u001b[0m\u001b[0;34m\u001b[0m\u001b[0;34m\u001b[0m\u001b[0m\n\u001b[0;32m---> 87\u001b[0;31m     \u001b[0;32mreturn\u001b[0m \u001b[0mbinascii\u001b[0m\u001b[0;34m.\u001b[0m\u001b[0ma2b_base64\u001b[0m\u001b[0;34m(\u001b[0m\u001b[0ms\u001b[0m\u001b[0;34m)\u001b[0m\u001b[0;34m\u001b[0m\u001b[0;34m\u001b[0m\u001b[0m\n\u001b[0m\u001b[1;32m     88\u001b[0m \u001b[0;34m\u001b[0m\u001b[0m\n\u001b[1;32m     89\u001b[0m \u001b[0;34m\u001b[0m\u001b[0m\n",
      "\u001b[0;31mError\u001b[0m: Incorrect padding"
     ]
    }
   ],
   "source": [
    "action = my_agent(valid_observation, env.configuration)"
   ]
  },
  {
   "cell_type": "code",
   "execution_count": 142,
   "metadata": {},
   "outputs": [
    {
     "data": {
      "text/html": "<iframe srcdoc=\"<!--\n  Copyright 2020 Kaggle Inc\n\n  Licensed under the Apache License, Version 2.0 (the &quot;License&quot;);\n  you may not use this file except in compliance with the License.\n  You may obtain a copy of the License at\n\n      http://www.apache.org/licenses/LICENSE-2.0\n\n  Unless required by applicable law or agreed to in writing, software\n  distributed under the License is distributed on an &quot;AS IS&quot; BASIS,\n  WITHOUT WARRANTIES OR CONDITIONS OF ANY KIND, either express or implied.\n  See the License for the specific language governing permissions and\n  limitations under the License.\n-->\n<!DOCTYPE html>\n<html lang=&quot;en&quot;>\n  <head>\n    <title>Kaggle Simulation Player</title>\n    <meta name=&quot;viewport&quot; content=&quot;width=device-width,initial-scale=1&quot; />\n    <link\n      rel=&quot;stylesheet&quot;\n      href=&quot;https://cdnjs.cloudflare.com/ajax/libs/meyer-reset/2.0/reset.css&quot;\n      crossorigin=&quot;anonymous&quot;\n    />\n    <style type=&quot;text/css&quot;>\n      html,\n      body {\n        height: 100%;\n        font-family: sans-serif;\n      }\n      canvas {\n        /* image-rendering: -moz-crisp-edges;\n        image-rendering: -webkit-crisp-edges;\n        image-rendering: pixelated;\n        image-rendering: crisp-edges; */\n      }\n    </style>\n    <script src=&quot;https://unpkg.com/preact@10.0.1/dist/preact.umd.js&quot;></script>\n    <script src=&quot;https://unpkg.com/preact@10.0.1/hooks/dist/hooks.umd.js&quot;></script>\n    <script src=&quot;https://unpkg.com/htm@2.2.1/dist/htm.umd.js&quot;></script>\n    <script>\n      // Polyfill for Styled Components\n      window.React = {\n        ...preact,\n        createElement: preact.h,\n        PropTypes: { func: {} },\n      };\n    </script>\n    <script src=&quot;https://unpkg.com/styled-components@3.5.0-0/dist/styled-components.min.js&quot;></script>\n  </head>\n  <body>\n    <script>\n      \nwindow.kaggle = {\n  &quot;debug&quot;: false,\n  &quot;autoplay&quot;: true,\n  &quot;step&quot;: 0,\n  &quot;controls&quot;: true,\n  &quot;environment&quot;: {\n    &quot;id&quot;: &quot;2e883534-5be8-11ea-a62c-38d547ad5d4a&quot;,\n    &quot;name&quot;: &quot;connectx&quot;,\n    &quot;title&quot;: &quot;ConnectX&quot;,\n    &quot;description&quot;: &quot;Classic Connect in a row but configurable.&quot;,\n    &quot;version&quot;: &quot;1.0.0&quot;,\n    &quot;configuration&quot;: {\n      &quot;timeout&quot;: 5,\n      &quot;columns&quot;: 7,\n      &quot;rows&quot;: 6,\n      &quot;inarow&quot;: 4,\n      &quot;steps&quot;: 1000\n    },\n    &quot;specification&quot;: {\n      &quot;action&quot;: {\n        &quot;description&quot;: &quot;Column to drop a checker onto the board.&quot;,\n        &quot;type&quot;: &quot;integer&quot;,\n        &quot;minimum&quot;: 0,\n        &quot;default&quot;: 0\n      },\n      &quot;agents&quot;: [\n        2\n      ],\n      &quot;configuration&quot;: {\n        &quot;timeout&quot;: {\n          &quot;description&quot;: &quot;Seconds an agent can run before timing out.&quot;,\n          &quot;type&quot;: &quot;integer&quot;,\n          &quot;minimum&quot;: 1,\n          &quot;default&quot;: 5\n        },\n        &quot;columns&quot;: {\n          &quot;description&quot;: &quot;The number of columns on the board&quot;,\n          &quot;type&quot;: &quot;integer&quot;,\n          &quot;default&quot;: 7,\n          &quot;minimum&quot;: 1\n        },\n        &quot;rows&quot;: {\n          &quot;description&quot;: &quot;The number of rows on the board&quot;,\n          &quot;type&quot;: &quot;integer&quot;,\n          &quot;default&quot;: 6,\n          &quot;minimum&quot;: 1\n        },\n        &quot;inarow&quot;: {\n          &quot;description&quot;: &quot;The number of checkers in a row required to win.&quot;,\n          &quot;type&quot;: &quot;integer&quot;,\n          &quot;default&quot;: 4,\n          &quot;minimum&quot;: 1\n        },\n        &quot;steps&quot;: {\n          &quot;description&quot;: &quot;Maximum number of steps the environment can run.&quot;,\n          &quot;type&quot;: &quot;integer&quot;,\n          &quot;minimum&quot;: 1,\n          &quot;default&quot;: 1000\n        }\n      },\n      &quot;info&quot;: {},\n      &quot;observation&quot;: {\n        &quot;board&quot;: {\n          &quot;description&quot;: &quot;Serialized grid (rows x columns). 0 = Empty, 1 = P1, 2 = P2&quot;,\n          &quot;type&quot;: &quot;array&quot;,\n          &quot;default&quot;: []\n        },\n        &quot;mark&quot;: {\n          &quot;default&quot;: 0,\n          &quot;description&quot;: &quot;Which checkers are the agents.&quot;,\n          &quot;enum&quot;: [\n            1,\n            2\n          ]\n        }\n      },\n      &quot;reward&quot;: {\n        &quot;description&quot;: &quot;0 = Lost, 0.5 = Draw, 1 = Won&quot;,\n        &quot;enum&quot;: [\n          0,\n          0.5,\n          1\n        ],\n        &quot;default&quot;: 0.5,\n        &quot;type&quot;: [\n          &quot;number&quot;,\n          &quot;null&quot;\n        ]\n      },\n      &quot;reset&quot;: {\n        &quot;status&quot;: [\n          &quot;ACTIVE&quot;,\n          &quot;INACTIVE&quot;\n        ],\n        &quot;observation&quot;: [\n          {\n            &quot;mark&quot;: 1\n          },\n          {\n            &quot;mark&quot;: 2\n          }\n        ]\n      }\n    },\n    &quot;steps&quot;: [\n      [\n        {\n          &quot;action&quot;: 0,\n          &quot;reward&quot;: 0.5,\n          &quot;info&quot;: {},\n          &quot;observation&quot;: {\n            &quot;board&quot;: [\n              0,\n              0,\n              0,\n              0,\n              0,\n              0,\n              0,\n              0,\n              0,\n              0,\n              0,\n              0,\n              0,\n              0,\n              0,\n              0,\n              0,\n              0,\n              0,\n              0,\n              0,\n              0,\n              0,\n              0,\n              0,\n              0,\n              0,\n              0,\n              0,\n              0,\n              0,\n              0,\n              0,\n              0,\n              0,\n              0,\n              0,\n              0,\n              0,\n              0,\n              0,\n              0\n            ],\n            &quot;mark&quot;: 1\n          },\n          &quot;status&quot;: &quot;ACTIVE&quot;\n        },\n        {\n          &quot;action&quot;: 0,\n          &quot;reward&quot;: 0.5,\n          &quot;info&quot;: {},\n          &quot;observation&quot;: {\n            &quot;board&quot;: [\n              0,\n              0,\n              0,\n              0,\n              0,\n              0,\n              0,\n              0,\n              0,\n              0,\n              0,\n              0,\n              0,\n              0,\n              0,\n              0,\n              0,\n              0,\n              0,\n              0,\n              0,\n              0,\n              0,\n              0,\n              0,\n              0,\n              0,\n              0,\n              0,\n              0,\n              0,\n              0,\n              0,\n              0,\n              0,\n              0,\n              0,\n              0,\n              0,\n              0,\n              0,\n              0\n            ],\n            &quot;mark&quot;: 2\n          },\n          &quot;status&quot;: &quot;INACTIVE&quot;\n        }\n      ],\n      [\n        {\n          &quot;action&quot;: null,\n          &quot;reward&quot;: null,\n          &quot;info&quot;: {},\n          &quot;observation&quot;: {\n            &quot;board&quot;: [\n              0,\n              0,\n              0,\n              0,\n              0,\n              0,\n              0,\n              0,\n              0,\n              0,\n              0,\n              0,\n              0,\n              0,\n              0,\n              0,\n              0,\n              0,\n              0,\n              0,\n              0,\n              0,\n              0,\n              0,\n              0,\n              0,\n              0,\n              0,\n              0,\n              0,\n              0,\n              0,\n              0,\n              0,\n              0,\n              0,\n              0,\n              0,\n              0,\n              0,\n              0,\n              0\n            ],\n            &quot;mark&quot;: 1\n          },\n          &quot;status&quot;: &quot;ERROR&quot;\n        },\n        {\n          &quot;action&quot;: 0,\n          &quot;reward&quot;: 0.5,\n          &quot;info&quot;: {},\n          &quot;observation&quot;: {\n            &quot;board&quot;: [\n              0,\n              0,\n              0,\n              0,\n              0,\n              0,\n              0,\n              0,\n              0,\n              0,\n              0,\n              0,\n              0,\n              0,\n              0,\n              0,\n              0,\n              0,\n              0,\n              0,\n              0,\n              0,\n              0,\n              0,\n              0,\n              0,\n              0,\n              0,\n              0,\n              0,\n              0,\n              0,\n              0,\n              0,\n              0,\n              0,\n              0,\n              0,\n              0,\n              0,\n              0,\n              0\n            ],\n            &quot;mark&quot;: 2\n          },\n          &quot;status&quot;: &quot;DONE&quot;\n        }\n      ]\n    ],\n    &quot;rewards&quot;: [\n      null,\n      0.5\n    ],\n    &quot;statuses&quot;: [\n      &quot;ERROR&quot;,\n      &quot;DONE&quot;\n    ],\n    &quot;schema_version&quot;: 1\n  },\n  &quot;mode&quot;: &quot;ipython&quot;,\n  &quot;width&quot;: 500,\n  &quot;height&quot;: 450\n};\n\n\nwindow.kaggle.renderer = // Copyright 2020 Kaggle Inc\n//\n// Licensed under the Apache License, Version 2.0 (the &quot;License&quot;);\n// you may not use this file except in compliance with the License.\n// You may obtain a copy of the License at\n//\n//      http://www.apache.org/licenses/LICENSE-2.0\n//\n// Unless required by applicable law or agreed to in writing, software\n// distributed under the License is distributed on an &quot;AS IS&quot; BASIS,\n// WITHOUT WARRANTIES OR CONDITIONS OF ANY KIND, either express or implied.\n// See the License for the specific language governing permissions and\n// limitations under the License.\n\nfunction renderer({\n  act,\n  agents,\n  environment,\n  frame,\n  height = 400,\n  interactive,\n  isInteractive,\n  parent,\n  step,\n  update,\n  width = 400,\n}) {\n  // Configuration.\n  const { rows, columns, inarow } = environment.configuration;\n\n  // Common Dimensions.\n  const unit = 8;\n  const minCanvasSize = Math.min(height, width);\n  const minOffset = minCanvasSize > 400 ? 30 : unit / 2;\n  const cellSize = Math.min(\n    (width - minOffset * 2) / columns,\n    (height - minOffset * 2) / rows\n  );\n  const cellInset = 0.8;\n  const pieceScale = cellSize / 100;\n  const xOffset = Math.max(0, (width - cellSize * columns) / 2);\n  const yOffset = Math.max(0, (height - cellSize * rows) / 2);\n\n  // Canvas Setup.\n  let canvas = parent.querySelector(&quot;canvas&quot;);\n  if (!canvas) {\n    canvas = document.createElement(&quot;canvas&quot;);\n    parent.appendChild(canvas);\n\n    if (interactive) {\n      canvas.addEventListener(&quot;click&quot;, evt => {\n        if (!isInteractive()) return;\n        const rect = evt.target.getBoundingClientRect();\n        const col = Math.floor((evt.clientX - rect.left - xOffset) / cellSize);\n        if (col >= 0 && col < columns) act(col);\n      });\n    }\n  }\n  canvas.style.cursor = isInteractive() ? &quot;pointer&quot; : &quot;default&quot;;\n\n  // Character Paths (based on 100x100 tiles).\n  const kPath = new Path2D(\n    `M78.3,96.5c-0.1,0.4-0.5,0.6-1.1,0.6H64.9c-0.7,0-1.4-0.3-1.9-1l-20.3-26L37,75.5v20.1 c0,0.9-0.5,1.4-1.4,1.4H26c-0.9,0-1.4-0.5-1.4-1.4V3.9c0-0.9,0.5-1.4,1.4-1.4h9.5C36.5,2.5,37,3,37,3.9v56.5l24.3-24.7 c0.6-0.6,1.3-1,1.9-1H76c0.6,0,0.9,0.2,1.1,0.7c0.2,0.6,0.1,1-0.1,1.2l-25.7,25L78,95.1C78.4,95.5,78.5,95.9,78.3,96.5z`\n  );\n  const goose1Path = new Path2D(\n    `M8.8,92.7c-4-18.5,4.7-37.2,20.7-46.2c0,0,2.7-1.4,3.4-1.9c2.2-1.6,3-2.1,3-5c0-5-2.1-7.2-2.1-7.2 c-3.9-3.3-6.3-8.2-6.3-13.7c0-10,8.1-18.1,18.1-18.1s18.1,8.1,18.1,18.1c0,6-1.5,32.7-2.3,38.8l-0.1,1`\n  );\n  const goose2Path = new Path2D(\n    `M27.4,19L8.2,27.6c0,0-7.3,2.9,2.6,5c6.1,1.3,24,5.9,24,5.9l1,0.3`\n  );\n  const goose3Path = new Path2D(\n    `M63.7,99.6C52.3,99.6,43,90.3,43,78.9s9.3-20.7,20.7-20.7c10.6,0,34.4,0.1,35.8,9`\n  );\n\n  // Canvas setup and reset.\n  let c = canvas.getContext(&quot;2d&quot;);\n  canvas.width = width;\n  canvas.height = height;\n  c.fillStyle = &quot;#000B2A&quot;;\n  c.fillRect(0, 0, canvas.width, canvas.height);\n\n  const getRowCol = cell => [Math.floor(cell / columns), cell % columns];\n\n  const getColor = (mark, opacity = 1) => {\n    if (mark === 1) return `rgba(0,255,255,${opacity})`;\n    if (mark === 2) return `rgba(255,255,255,${opacity})`;\n    return &quot;#fff&quot;;\n  };\n\n  const drawCellCircle = (cell, xFrame = 1, yFrame = 1, radiusOffset = 0) => {\n    const [row, col] = getRowCol(cell);\n    c.arc(\n      xOffset + xFrame * (col * cellSize + cellSize / 2),\n      yOffset + yFrame * (row * cellSize + cellSize / 2),\n      (cellInset * cellSize) / 2 - radiusOffset,\n      2 * Math.PI,\n      false\n    );\n  };\n\n  // Render the pieces.\n  const board = environment.steps[step][0].observation.board;\n\n  const drawPiece = mark => {\n    // Base Styles.\n    const opacity = minCanvasSize < 300 ? 0.6 - minCanvasSize / 1000 : 0.1;\n    c.fillStyle = getColor(mark, opacity);\n    c.strokeStyle = getColor(mark);\n    c.shadowColor = getColor(mark);\n    c.shadowBlur = 8 / cellInset;\n    c.lineWidth = 1 / cellInset;\n\n    // Outer circle.\n    c.save();\n    c.beginPath();\n    c.arc(50, 50, 50, 2 * Math.PI, false);\n    c.closePath();\n    c.lineWidth *= 4;\n    c.stroke();\n    c.fill();\n    c.restore();\n\n    // Inner circle.\n    c.beginPath();\n    c.arc(50, 50, 40, 2 * Math.PI, false);\n    c.closePath();\n    c.stroke();\n\n    // Kaggle &quot;K&quot;.\n    if (mark === 1) {\n      const scale = 0.54;\n      c.save();\n      c.translate(23, 23);\n      c.scale(scale, scale);\n      c.lineWidth /= scale;\n      c.shadowBlur /= scale;\n      c.stroke(kPath);\n      c.restore();\n    }\n\n    // Kaggle &quot;Goose&quot;.\n    if (mark === 2) {\n      const scale = 0.6;\n      c.save();\n      c.translate(24, 28);\n      c.scale(scale, scale);\n      c.lineWidth /= scale;\n      c.shadowBlur /= scale;\n      c.stroke(goose1Path);\n      c.stroke(goose2Path);\n      c.stroke(goose3Path);\n      c.beginPath();\n      c.arc(38.5, 18.6, 2.7, 0, Math.PI * 2, false);\n      c.closePath();\n      c.fill();\n      c.restore();\n    }\n  };\n\n  for (let i = 0; i < board.length; i++) {\n    const [row, col] = getRowCol(i);\n    if (board[i] === 0) continue;\n    // Easing In.\n    let yFrame = Math.min(\n      (columns * Math.pow(frame, 3)) / Math.floor(i / columns),\n      1\n    );\n\n    if (\n      step > 1 &&\n      environment.steps[step - 1][0].observation.board[i] === board[i]\n    ) {\n      yFrame = 1;\n    }\n\n    c.save();\n    c.translate(\n      xOffset + cellSize * col + (cellSize - cellSize * cellInset) / 2,\n      yOffset +\n        yFrame * (cellSize * row) +\n        (cellSize - cellSize * cellInset) / 2\n    );\n    c.scale(pieceScale * cellInset, pieceScale * cellInset);\n    drawPiece(board[i]);\n    c.restore();\n  }\n\n  // Background Gradient.\n  const bgRadius = (Math.min(rows, columns) * cellSize) / 2;\n  const bgStyle = c.createRadialGradient(\n    xOffset + (cellSize * columns) / 2,\n    yOffset + (cellSize * rows) / 2,\n    0,\n    xOffset + (cellSize * columns) / 2,\n    yOffset + (cellSize * rows) / 2,\n    bgRadius\n  );\n  bgStyle.addColorStop(0, &quot;#000B49&quot;);\n  bgStyle.addColorStop(1, &quot;#000B2A&quot;);\n\n  // Render the board overlay.\n  c.beginPath();\n  c.rect(0, 0, canvas.width, canvas.height);\n  c.closePath();\n  c.shadowBlur = 0;\n  for (let i = 0; i < board.length; i++) {\n    drawCellCircle(i);\n    c.closePath();\n  }\n  c.fillStyle = bgStyle;\n  c.fill(&quot;evenodd&quot;);\n\n  // Render the board overlay cell outlines.\n  for (let i = 0; i < board.length; i++) {\n    c.beginPath();\n    drawCellCircle(i);\n    c.strokeStyle = &quot;#0361B2&quot;;\n    c.lineWidth = 1;\n    c.stroke();\n    c.closePath();\n  }\n\n  const drawLine = (fromCell, toCell) => {\n    if (frame < 0.5) return;\n    const lineFrame = (frame - 0.5) / 0.5;\n    const x1 = xOffset + (fromCell % columns) * cellSize + cellSize / 2;\n    const x2 =\n      x1 +\n      lineFrame *\n        (xOffset + ((toCell % columns) * cellSize + cellSize / 2) - x1);\n    const y1 =\n      yOffset + Math.floor(fromCell / columns) * cellSize + cellSize / 2;\n    const y2 =\n      y1 +\n      lineFrame *\n        (yOffset + Math.floor(toCell / columns) * cellSize + cellSize / 2 - y1);\n    c.beginPath();\n    c.lineCap = &quot;round&quot;;\n    c.lineWidth = 4;\n    c.strokeStyle = getColor(board[fromCell]);\n    c.shadowBlur = 8;\n    c.shadowColor = getColor(board[fromCell]);\n    c.moveTo(x1, y1);\n    c.lineTo(x2, y2);\n    c.stroke();\n  };\n\n  // Generate a graph of the board.\n  const getCell = (cell, rowOffset, columnOffset) => {\n    const row = Math.floor(cell / columns) + rowOffset;\n    const col = (cell % columns) + columnOffset;\n    if (row < 0 || row >= rows || col < 0 || col >= columns) return -1;\n    return col + row * columns;\n  };\n  const makeNode = cell => {\n    const node = { cell, directions: [], value: board[cell] };\n    for (let r = -1; r <= 1; r++) {\n      for (let c = -1; c <= 1; c++) {\n        if (r === 0 && c === 0) continue;\n        node.directions.push(getCell(cell, r, c));\n      }\n    }\n    return node;\n  };\n  const graph = board.map((_, i) => makeNode(i));\n\n  // Check for any wins!\n  const getSequence = (node, direction) => {\n    const sequence = [node.cell];\n    while (sequence.length < inarow) {\n      const next = graph[node.directions[direction]];\n      if (!next || node.value !== next.value || next.value === 0) return;\n      node = next;\n      sequence.push(node.cell);\n    }\n    return sequence;\n  };\n\n  // Check all nodes.\n  for (let i = 0; i < board.length; i++) {\n    // Check all directions (not the most efficient).\n    for (let d = 0; d < 8; d++) {\n      const seq = getSequence(graph[i], d);\n      if (seq) {\n        drawLine(seq[0], seq[3]);\n        i = board.length;\n        break;\n      }\n    }\n  }\n\n  // Upgrade the legend.\n  if (agents.length && (!agents[0].color || !agents[0].image)) {\n    const getPieceImage = mark => {\n      const pieceCanvas = document.createElement(&quot;canvas&quot;);\n      parent.appendChild(pieceCanvas);\n      pieceCanvas.style.marginLeft = &quot;10000px&quot;;\n      pieceCanvas.width = 100;\n      pieceCanvas.height = 100;\n      c = pieceCanvas.getContext(&quot;2d&quot;);\n      c.translate(10, 10);\n      c.scale(0.8, 0.8);\n      drawPiece(mark);\n      const dataUrl = pieceCanvas.toDataURL();\n      parent.removeChild(pieceCanvas);\n      return dataUrl;\n    };\n\n    agents.forEach(agent => {\n      agent.color = getColor(agent.index + 1);\n      agent.image = getPieceImage(agent.index + 1);\n    });\n    update({ agents });\n  }\n};\n\n\n    \n    </script>\n    <script>\n      const h = htm.bind(preact.h);\n      const { useContext, useEffect, useRef, useState } = preactHooks;\n      const styled = window.styled.default;\n\n      const Context = preact.createContext({});\n\n      const Loading = styled.div`\n        animation: rotate360 1.1s infinite linear;\n        border: 8px solid rgba(255, 255, 255, 0.2);\n        border-left-color: #0cb1ed;\n        border-radius: 50%;\n        height: 40px;\n        position: relative;\n        transform: translateZ(0);\n        width: 40px;\n\n        @keyframes rotate360 {\n          0% {\n            transform: rotate(0deg);\n          }\n          100% {\n            transform: rotate(360deg);\n          }\n        }\n      `;\n\n      const Logo = styled(\n        props => h`\n        <a href=&quot;https://kaggle.com&quot; target=&quot;_blank&quot; className=${props.className}>\n          <svg width=&quot;62px&quot; height=&quot;20px&quot; viewBox=&quot;0 0 62 24&quot; version=&quot;1.1&quot; xmlns=&quot;http://www.w3.org/2000/svg&quot;>\n            <g fill=&quot;#1EBEFF&quot; fill-rule=&quot;nonzero&quot;>\n              <path d=&quot;M10.2,17.8c0,0.1-0.1,0.1-0.2,0.1H7.7c-0.1,0-0.3-0.1-0.4-0.2l-3.8-4.9l-1.1,1v3.8 c0,0.2-0.1,0.3-0.3,0.3H0.3c-0.2,0-0.3-0.1-0.3-0.3V0.3C0.1,0.1,0.2,0,0.3,0h1.8c0.2,0,0.3,0.1,0.3,0.3V11L7,6.3 c0.1-0.1,0.2-0.2,0.4-0.2h2.4c0.1,0,0.2,0,0.2,0.1c0,0.1,0,0.2,0,0.2l-4.9,4.7l5.1,6.3C10.2,17.6,10.2,17.7,10.2,17.8z&quot;/>\n              <path d=&quot;M19.6,17.9h-1.8c-0.2,0-0.3-0.1-0.3-0.3v-0.4c-0.8,0.6-1.8,0.9-3,0.9c-1.1,0-2-0.3-2.8-1 c-0.8-0.7-1.2-1.6-1.2-2.7c0-1.7,1.1-2.9,3.2-3.5c0.8-0.2,2.1-0.5,3.8-0.6c0.1-0.6-0.1-1.2-0.5-1.7c-0.4-0.5-1-0.7-1.7-0.7 c-1,0-2,0.4-3,1C12.2,9.1,12.1,9.1,12,9l-0.9-1.3C11,7.5,11,7.4,11.1,7.3c1.3-0.9,2.7-1.4,4.2-1.4c1.1,0,2.1,0.3,2.8,0.8 c1.1,0.8,1.7,2,1.7,3.7v7.3C19.9,17.8,19.8,17.9,19.6,17.9z M17.5,12.4c-1.7,0.2-2.9,0.4-3.5,0.7c-0.9,0.4-1.2,0.9-1.1,1.6 c0.1,0.4,0.2,0.7,0.6,0.9c0.3,0.2,0.7,0.4,1.1,0.4c1.2,0.1,2.2-0.2,2.9-1V12.4z&quot;/>\n              <path d=&quot;M30.6,22.5c-0.9,1-2.3,1.5-4,1.5c-1,0-2-0.3-2.9-0.8c-0.2-0.1-0.4-0.3-0.7-0.5 c-0.3-0.2-0.6-0.5-0.9-0.7c-0.1-0.1-0.1-0.2,0-0.4l1.2-1.2c0.1-0.1,0.1-0.1,0.2-0.1c0.1,0,0.1,0,0.2,0.1c1,1,1.9,1.5,2.8,1.5 c2.1,0,3.2-1.1,3.2-3.3v-1.4c-0.8,0.7-1.9,1-3.3,1c-1.7,0-3-0.6-4-1.9c-0.8-1.1-1.3-2.5-1.3-4.2c0-1.6,0.4-3,1.2-4.1 c0.9-1.3,2.3-2,4-2c1.3,0,2.4,0.3,3.3,1V6.4c0-0.2,0.1-0.3,0.3-0.3h1.8c0.2,0,0.3,0.1,0.3,0.3v11.7C32,20,31.5,21.5,30.6,22.5z M29.7,9.9c-0.4-1.1-1.4-1.7-3-1.7c-2,0-3.1,1.3-3.1,3.8c0,1.4,0.3,2.4,1,3.1c0.5,0.5,1.2,0.8,2,0.8c1.6,0,2.7-0.6,3.1-1.7V9.9z&quot;/>\n              <path d=&quot;M42.9,22.5c-0.9,1-2.3,1.5-4,1.5c-1,0-2-0.3-2.9-0.8c-0.2-0.1-0.4-0.3-0.7-0.5 c-0.3-0.2-0.6-0.5-0.9-0.7c-0.1-0.1-0.1-0.2,0-0.4l1.2-1.2c0.1-0.1,0.1-0.1,0.2-0.1c0.1,0,0.1,0,0.2,0.1c1,1,1.9,1.5,2.8,1.5 c2.1,0,3.2-1.1,3.2-3.3v-1.4c-0.8,0.7-1.9,1-3.3,1c-1.7,0-3-0.6-4-1.9c-0.8-1.1-1.3-2.5-1.3-4.2c0-1.6,0.4-3,1.2-4.1 c0.9-1.3,2.3-2,4-2c1.3,0,2.4,0.3,3.3,1V6.4c0-0.2,0.1-0.3,0.3-0.3H44c0.2,0,0.3,0.1,0.3,0.3v11.7C44.3,20,43.8,21.5,42.9,22.5z M42,9.9c-0.4-1.1-1.4-1.7-3-1.7c-2,0-3.1,1.3-3.1,3.8c0,1.4,0.3,2.4,1,3.1c0.5,0.5,1.2,0.8,2,0.8c1.6,0,2.7-0.6,3.1-1.7L42,9.9 L42,9.9z&quot;/>\n              <path d=&quot;M48.3,17.9h-1.8c-0.2,0-0.3-0.1-0.3-0.3V0.3c0-0.2,0.1-0.3,0.3-0.3h1.8c0.2,0,0.3,0.1,0.3,0.3 v17.3C48.5,17.8,48.5,17.9,48.3,17.9z&quot;/>\n              <path d=&quot;M61.4,12.6c0,0.2-0.1,0.3-0.3,0.3h-8.5c0.1,0.9,0.5,1.6,1.1,2.2c0.7,0.6,1.6,0.9,2.7,0.9 c1,0,1.8-0.3,2.6-0.8c0.2-0.1,0.3-0.1,0.4,0l1.2,1.3c0.1,0.1,0.1,0.3,0,0.4c-1.3,0.9-2.7,1.4-4.4,1.4c-1.8,0-3.3-0.6-4.4-1.8 c-1.1-1.2-1.7-2.7-1.7-4.5c0-1.7,0.6-3.2,1.7-4.4c1-1.1,2.4-1.6,4.1-1.6c1.6,0,2.9,0.6,4,1.7c1.1,1.2,1.6,2.6,1.5,4.4L61.4,12.6 z M58,8.7c-0.6-0.5-1.3-0.8-2.1-0.8c-0.8,0-1.5,0.3-2.1,0.8c-0.6,0.5-1,1.2-1.1,2H59C59,9.9,58.6,9.3,58,8.7z&quot;/>\n            </g>\n          </svg>\n        </a>\n      `\n      )`\n        display: inline-flex;\n      `;\n\n      const Header = styled(props => {\n        const { environment } = useContext(Context);\n\n        return h`<div className=${props.className} >\n          <${Logo} />\n          ${environment.title}\n        </div>`;\n      })`\n        align-items: center;\n        border-bottom: 4px solid #212121;\n        box-sizing: border-box;\n        color: #fff;\n        display: flex;\n        flex: 0 0 36px;\n        font-size: 14px;\n        justify-content: space-between;\n        padding: 0 8px;\n        width: 100%;\n      `;\n\n      const Renderer = styled(props => {\n        const context = useContext(Context);\n        const { animate, debug, playing, renderer, speed } = context;\n        const ref = preact.createRef();\n\n        useEffect(async () => {\n          if (!ref.current) return;\n\n          const renderFrame = async (start, step, lastFrame) => {\n            if (step !== context.step) return;\n            if (lastFrame === 1) {\n              if (!animate) return;\n              start = Date.now();\n            }\n            const frame =\n              playing || animate\n                ? Math.min((Date.now() - start) / speed, 1)\n                : 1;\n            try {\n              if (debug) console.time(&quot;render&quot;);\n              await renderer({\n                ...context,\n                frame,\n                height: ref.current.clientHeight,\n                hooks: preactHooks,\n                parent: ref.current,\n                preact,\n                styled,\n                width: ref.current.clientWidth,\n              });\n            } catch (error) {\n              console.log({ ...context, frame, error });\n            } finally {\n              if (debug) console.timeEnd(&quot;render&quot;);\n            }\n            window.requestAnimationFrame(() => renderFrame(start, step, frame));\n          };\n\n          await renderFrame(Date.now(), context.step);\n        }, [ref.current, context.step, context.renderer]);\n\n        return h`<div className=${props.className} ref=${ref} />`;\n      })`\n        align-items: center;\n        box-sizing: border-box;\n        display: flex;\n        height: 100%;\n        left: 0;\n        justify-content: center;\n        position: absolute;\n        top: 0;\n        width: 100%;\n      `;\n\n      const Processing = styled(props => {\n        const { processing } = useContext(Context);\n        return h`<div className=${props.className}>Processing...</div>`;\n      })`\n        bottom: 0;\n        color: #fff;\n        font-size: 12px;\n        left: 0;\n        line-height: 24px;\n        position: absolute;\n        text-align: center;\n        width: 100%;\n      `;\n\n      const Viewer = styled(props => {\n        const { processing } = useContext(Context);\n        return h`<div className=${props.className}>\n          <${Renderer} />\n          ${processing && h`<${Processing} />`}\n        </div>`;\n      })`\n        background-color: #000b2a;\n        background-image: radial-gradient(\n          circle closest-side,\n          #000b49,\n          #000b2a\n        );\n        display: flex;\n        flex: 1;\n        overflow: hidden;\n        position: relative;\n        width: 100%;\n      `;\n\n      const Legend = styled(props => {\n        const { agents, legend } = useContext(Context);\n\n        return h`<div className=${props.className}>\n          <ul>\n            ${agents\n              .sort((a, b) => a.index - b.index)\n              .map(a => {\n                const name =\n                  a.name.length > 15 ? a.name.substr(0, 14) + &quot;…&quot; : a.name;\n                return h`<li key=${a.id} title=&quot;id: ${\n                  a.id\n                }&quot; style=&quot;color:${a.color || &quot;#FFF&quot;}&quot;>${a.image &&\n                  h`<img src=${a.image} />`}${name}</li>`;\n              })}\n          </ul>\n        </div>`;\n      })`\n        background-color: #000b2a;\n        font-family: sans-serif;\n        font-size: 14px;\n        width: 100%;\n\n        ul {\n          align-items: center;\n          display: flex;\n          flex-direction: row;\n          justify-content: center;\n        }\n\n        li {\n          align-items: center;\n          display: inline-flex;\n          padding: 8px;\n          transition: color 1s;\n        }\n\n        img {\n          height: 24px;\n          margin-right: 4px;\n          width: 24px;\n        }\n      `;\n\n      const StepInput = styled.input.attrs({\n        type: &quot;range&quot;,\n      })`\n        appearance: none;\n        background: rgba(255, 255, 255, 0.15);\n        border-radius: 2px;\n        display: block;\n        flex: 1;\n        height: 4px;\n        opacity: 0.8;\n        outline: none;\n        transition: opacity 0.2s;\n        width: 100%;\n\n        &:hover {\n          opacity: 1;\n        }\n\n        &::-webkit-slider-thumb {\n          appearance: none;\n          background: #1ebeff;\n          border-radius: 100%;\n          cursor: pointer;\n          height: 12px;\n          margin: 0;\n          position: relative;\n          width: 12px;\n\n          &::after {\n            content: &quot;&quot;;\n            position: absolute;\n            top: 0px;\n            left: 0px;\n            width: 200px;\n            height: 8px;\n            background: green;\n          }\n        }\n      `;\n\n      const PlayButton = styled.button`\n        align-items: center;\n        background: none;\n        border: none;\n        color: white;\n        cursor: pointer;\n        display: flex;\n        flex: 0 0 56px;\n        font-size: 20px;\n        height: 40px;\n        justify-content: center;\n        opacity: 0.8;\n        outline: none;\n        transition: opacity 0.2s;\n\n        &:hover {\n          opacity: 1;\n        }\n      `;\n\n      const StepCount = styled.span`\n        align-items: center;\n        color: white;\n        display: flex;\n        font-size: 14px;\n        justify-content: center;\n        opacity: 0.8;\n        padding: 0 16px;\n        pointer-events: none;\n      `;\n\n      const Controls = styled(props => {\n        const { environment, pause, play, playing, setStep, step } = useContext(\n          Context\n        );\n        const value = step + 1;\n        const onClick = () => (playing ? pause() : play());\n        const onInput = e => {\n          pause();\n          setStep(parseInt(e.target.value) - 1);\n        };\n\n        return h`\n          <div className=${props.className}>\n            <${PlayButton} onClick=${onClick}><svg xmlns=&quot;http://www.w3.org/2000/svg&quot; width=&quot;24px&quot; height=&quot;24px&quot; viewBox=&quot;0 0 24 24&quot; fill=&quot;#FFFFFF&quot;>${\n          playing\n            ? h`<path d=&quot;M6 19h4V5H6v14zm8-14v14h4V5h-4z&quot;/><path d=&quot;M0 0h24v24H0z&quot; fill=&quot;none&quot;/>`\n            : h`<path d=&quot;M8 5v14l11-7z&quot;/><path d=&quot;M0 0h24v24H0z&quot; fill=&quot;none&quot;/>`\n        }</svg><//>\n            <${StepInput} min=&quot;1&quot; max=${\n          environment.steps.length\n        } value=&quot;${value}&quot; onInput=${onInput} />\n            <${StepCount}>${value} / ${environment.steps.length}<//>\n          </div>\n        `;\n      })`\n        align-items: center;\n        border-top: 4px solid #212121;\n        display: flex;\n        flex: 0 0 44px;\n        width: 100%;\n      `;\n\n      const Info = styled(props => {\n        const {\n          environment,\n          playing,\n          step,\n          speed,\n          animate,\n          header,\n          controls,\n          settings,\n        } = useContext(Context);\n\n        return h`\n          <div className=${props.className}>\n            info:\n            step(${step}),\n            playing(${playing ? &quot;T&quot; : &quot;F&quot;}),\n            speed(${speed}),\n            animate(${animate ? &quot;T&quot; : &quot;F&quot;})\n          </div>`;\n      })`\n        color: #888;\n        font-family: monospace;\n        font-size: 12px;\n      `;\n\n      const Settings = styled(props => {\n        const { environment, pause, play, playing, setStep, step } = useContext(\n          Context\n        );\n\n        return h`\n          <div className=${props.className}>\n            <${Info} />\n          </div>\n        `;\n      })`\n        background: #fff;\n        border-top: 4px solid #212121;\n        box-sizing: border-box;\n        padding: 20px;\n        width: 100%;\n\n        h1 {\n          font-size: 20px;\n        }\n      `;\n\n      const Player = styled(props => {\n        const context = useContext(Context);\n        const { agents, controls, header, legend, loading, settings } = context;\n        return h`\n          <div className=${props.className}>\n            ${loading && h`<${Loading} />`}\n            ${!loading && header && h`<${Header} />`}\n            ${!loading && h`<${Viewer} />`}\n            ${!loading && agents.length > 0 && legend && h`<${Legend} />`}\n            ${!loading && controls && h`<${Controls} />`}\n            ${!loading && settings && h`<${Settings} />`}\n          </div>`;\n      })`\n        align-items: center;\n        background: #212121;\n        border: 4px solid #212121;\n        box-sizing: border-box;\n        display: flex;\n        flex-direction: column;\n        height: 100%;\n        justify-content: center;\n        position: relative;\n        width: 100%;\n      `;\n\n      const App = () => {\n        const renderCountRef = useRef(0);\n        const [_, setRenderCount] = useState(0);\n\n        const contextRef = useRef({\n          animate: false,\n          agents: [],\n          autoplay: false,\n          controls: false,\n          debug: false,\n          environment: { steps: [] },\n          header: window.innerHeight >= 600,\n          interactive: false,\n          legend: true,\n          loading: false,\n          playing: false,\n          processing: false,\n          renderer: () => &quot;DNE&quot;,\n          settings: false,\n          speed: 500,\n          step: 0,\n        });\n\n        // Context helpers.\n        const rerender = (contextRef.current.rerender = () =>\n          setRenderCount((renderCountRef.current += 1)));\n        const setStep = (contextRef.current.setStep = newStep => {\n          contextRef.current.step = newStep;\n          rerender();\n        });\n        const setPlaying = (contextRef.current.setPlaying = playing => {\n          contextRef.current.playing = playing;\n          rerender();\n        });\n        const pause = (contextRef.current.pause = () => setPlaying(false));\n\n        const playNext = () => {\n          const context = contextRef.current;\n\n          if (\n            context.playing &&\n            context.step < context.environment.steps.length - 1\n          ) {\n            setStep(context.step + 1);\n            play(true);\n          } else {\n            pause();\n          }\n        };\n\n        const play = (contextRef.current.play = continuing => {\n          const context = contextRef.current;\n          if (context.playing && !continuing) return;\n          if (!context.playing) setPlaying(true);\n          if (\n            !continuing &&\n            context.step === context.environment.steps.length - 1\n          ) {\n            setStep(0);\n          }\n          setTimeout(playNext, context.speed);\n        });\n\n        const updateContext = o => {\n          const context = contextRef.current;\n          Object.assign(context, o, {\n            environment: { ...context.environment, ...(o.environment || {}) },\n          });\n          rerender();\n\n          // If autoplay, toggle to playing.\n          if (context.autoplay) play();\n        };\n\n        // First time setup.\n        useEffect(() => {\n          // Timeout is used to ensure useEffect renders once.\n          setTimeout(() => {\n            // Initialize context with window.kaggle.\n            updateContext(window.kaggle || {});\n            // Listen for messages received to update the context.\n            window.addEventListener(\n              &quot;message&quot;,\n              event => {\n                // Ensure the environment names match before updating.\n                try {\n                  if (\n                    event.data.environment.name ==\n                    contextRef.current.environment.name\n                  ) {\n                    updateContext(event.data);\n                  }\n                } catch {}\n              },\n              false\n            );\n            // Listen for keyboard commands.\n            window.addEventListener(\n              &quot;keyup&quot;,\n              event => {\n                const { playing, step, environment } = contextRef.current;\n                const key = event.keyCode;\n                if (key !== 32 && key !== 37 && key !== 39) return;\n\n                if (key === 32) {\n                  playing ? pause() : play();\n                } else if (event.keyCode === 39) {\n                  contextRef.current.playing = false;\n                  if (step < environment.steps.length - 1) setStep(step + 1);\n                  rerender();\n                } else if (event.keyCode === 37) {\n                  contextRef.current.playing = false;\n                  if (step > 0) setStep(step - 1);\n                  rerender();\n                }\n                event.preventDefault();\n                return false;\n              },\n              false\n            );\n          }, 1);\n        }, []);\n\n        if (contextRef.current.debug) {\n          console.log(&quot;context&quot;, contextRef.current);\n        }\n\n        // Ability to update context.\n        contextRef.current.update = updateContext;\n\n        // Ability to communicate with ipython.\n        const execute = (contextRef.current.execute = source =>\n          new Promise((resolve, reject) => {\n            try {\n              window.parent.IPython.notebook.kernel.execute(source, {\n                iopub: {\n                  output: resp => {\n                    const type = resp.msg_type;\n                    if (type === &quot;stream&quot;) return resolve(resp.content.text);\n                    if (type === &quot;error&quot;) return reject(new Error(resp.evalue));\n                    return reject(new Error(&quot;Unknown message type: &quot; + type));\n                  },\n                },\n              });\n            } catch (e) {\n              reject(new Error(&quot;IPython Unavailable: &quot; + e));\n            }\n          }));\n\n        // Ability to return an action from an interactive session.\n        contextRef.current.act = action => {\n          const id = contextRef.current.environment.id;\n          updateContext({ processing: true });\n          execute(`\n            import json\n            from kaggle_environments import interactives\n            if &quot;${id}&quot; in interactives:\n                action = json.loads('${JSON.stringify(action)}')\n                env, trainer = interactives[&quot;${id}&quot;]\n                trainer.step(action)\n                print(json.dumps(env.steps))`)\n            .then(resp => {\n              try {\n                updateContext({\n                  processing: false,\n                  environment: { steps: JSON.parse(resp) },\n                });\n                play();\n              } catch (e) {\n                console.error(resp, e);\n              }\n            })\n            .catch(e => console.error(e));\n        };\n\n        // Check if currently interactive.\n        contextRef.current.isInteractive = () => {\n          const context = contextRef.current;\n          const steps = context.environment.steps;\n          return (\n            context.interactive &&\n            !context.processing &&\n            context.step === steps.length - 1 &&\n            steps[context.step].some(s => s.status === &quot;ACTIVE&quot;)\n          );\n        };\n\n        return h`\n          <${Context.Provider} value=${contextRef.current}>\n            <${Player} />\n          <//>`;\n      };\n\n      preact.render(h`<${App} />`, document.body);\n    </script>\n  </body>\n</html>\n\" width=\"500\" height=\"450\" frameborder=\"0\"></iframe> ",
      "text/plain": "<IPython.core.display.HTML object>"
     },
     "metadata": {},
     "output_type": "display_data"
    }
   ],
   "source": [
    "valid_env.reset()\n",
    "valid_env.run([my_agent, \"negamax\"])\n",
    "valid_env.render(mode=\"ipython\", width=500, height=450)"
   ]
  },
  {
   "cell_type": "code",
   "execution_count": 120,
   "metadata": {},
   "outputs": [
    {
     "name": "stdout",
     "output_type": "stream",
     "text": "<function my_agent at 0x7f40cfea29d0> written to submission.py\n"
    }
   ],
   "source": [
    "import inspect\n",
    "import os\n",
    "\n",
    "def write_agent_to_file(function, file):\n",
    "    with open(file, \"a\" if os.path.exists(file) else \"w\") as f:\n",
    "        f.write(inspect.getsource(function))\n",
    "        print(function, \"written to\", file)\n",
    "\n",
    "write_agent_to_file(my_agent, \"submission.py\")"
   ]
  },
  {
   "cell_type": "code",
   "execution_count": 166,
   "metadata": {},
   "outputs": [
    {
     "ename": "InvalidArgument",
     "evalue": "No callable found",
     "output_type": "error",
     "traceback": [
      "\u001b[0;31m---------------------------------------------------------------------------\u001b[0m",
      "\u001b[0;31mSyntaxError\u001b[0m                               Traceback (most recent call last)",
      "\u001b[0;32m~/.local/lib/python3.8/site-packages/kaggle_environments/utils.py\u001b[0m in \u001b[0;36mget_exec\u001b[0;34m(raw, fallback)\u001b[0m\n\u001b[1;32m    132\u001b[0m     \u001b[0;32mtry\u001b[0m\u001b[0;34m:\u001b[0m\u001b[0;34m\u001b[0m\u001b[0;34m\u001b[0m\u001b[0m\n\u001b[0;32m--> 133\u001b[0;31m         \u001b[0mcode_object\u001b[0m \u001b[0;34m=\u001b[0m \u001b[0mcompile\u001b[0m\u001b[0;34m(\u001b[0m\u001b[0mraw\u001b[0m\u001b[0;34m,\u001b[0m \u001b[0;34m\"<string>\"\u001b[0m\u001b[0;34m,\u001b[0m \u001b[0;34m\"exec\"\u001b[0m\u001b[0;34m)\u001b[0m\u001b[0;34m\u001b[0m\u001b[0;34m\u001b[0m\u001b[0m\n\u001b[0m\u001b[1;32m    134\u001b[0m         \u001b[0menv\u001b[0m \u001b[0;34m=\u001b[0m \u001b[0;34m{\u001b[0m\u001b[0;34m}\u001b[0m\u001b[0;34m\u001b[0m\u001b[0;34m\u001b[0m\u001b[0m\n",
      "\u001b[0;31mSyntaxError\u001b[0m: EOL while scanning string literal (<string>, line 5)",
      "\nDuring handling of the above exception, another exception occurred:\n",
      "\u001b[0;31mInvalidArgument\u001b[0m                           Traceback (most recent call last)",
      "\u001b[0;32m~/.local/lib/python3.8/site-packages/kaggle_environments/utils.py\u001b[0m in \u001b[0;36mget_last_callable\u001b[0;34m(raw, fallback)\u001b[0m\n\u001b[1;32m    148\u001b[0m     \u001b[0;32mtry\u001b[0m\u001b[0;34m:\u001b[0m\u001b[0;34m\u001b[0m\u001b[0;34m\u001b[0m\u001b[0m\n\u001b[0;32m--> 149\u001b[0;31m         \u001b[0mlocal\u001b[0m \u001b[0;34m=\u001b[0m \u001b[0mget_exec\u001b[0m\u001b[0;34m(\u001b[0m\u001b[0mraw\u001b[0m\u001b[0;34m)\u001b[0m\u001b[0;34m\u001b[0m\u001b[0;34m\u001b[0m\u001b[0m\n\u001b[0m\u001b[1;32m    150\u001b[0m         \u001b[0mcallables\u001b[0m \u001b[0;34m=\u001b[0m \u001b[0;34m[\u001b[0m\u001b[0mv\u001b[0m \u001b[0;32mfor\u001b[0m \u001b[0mv\u001b[0m \u001b[0;32min\u001b[0m \u001b[0mlocal\u001b[0m\u001b[0;34m.\u001b[0m\u001b[0mvalues\u001b[0m\u001b[0;34m(\u001b[0m\u001b[0;34m)\u001b[0m \u001b[0;32mif\u001b[0m \u001b[0mcallable\u001b[0m\u001b[0;34m(\u001b[0m\u001b[0mv\u001b[0m\u001b[0;34m)\u001b[0m\u001b[0;34m]\u001b[0m\u001b[0;34m\u001b[0m\u001b[0;34m\u001b[0m\u001b[0m\n",
      "\u001b[0;32m~/.local/lib/python3.8/site-packages/kaggle_environments/utils.py\u001b[0m in \u001b[0;36mget_exec\u001b[0;34m(raw, fallback)\u001b[0m\n\u001b[1;32m    143\u001b[0m             \u001b[0;32mreturn\u001b[0m \u001b[0mfallback\u001b[0m\u001b[0;34m\u001b[0m\u001b[0;34m\u001b[0m\u001b[0m\n\u001b[0;32m--> 144\u001b[0;31m         \u001b[0;32mraise\u001b[0m \u001b[0mInvalidArgument\u001b[0m\u001b[0;34m(\u001b[0m\u001b[0;34m\"Invalid raw Python: \"\u001b[0m \u001b[0;34m+\u001b[0m \u001b[0mstr\u001b[0m\u001b[0;34m(\u001b[0m\u001b[0me\u001b[0m\u001b[0;34m)\u001b[0m\u001b[0;34m)\u001b[0m\u001b[0;34m\u001b[0m\u001b[0;34m\u001b[0m\u001b[0m\n\u001b[0m\u001b[1;32m    145\u001b[0m \u001b[0;34m\u001b[0m\u001b[0m\n",
      "\u001b[0;31mInvalidArgument\u001b[0m: Invalid raw Python: EOL while scanning string literal (<string>, line 5)",
      "\nDuring handling of the above exception, another exception occurred:\n",
      "\u001b[0;31mInvalidArgument\u001b[0m                           Traceback (most recent call last)",
      "\u001b[0;32m<ipython-input-166-b3c0389ba38a>\u001b[0m in \u001b[0;36m<module>\u001b[0;34m\u001b[0m\n\u001b[1;32m      2\u001b[0m \u001b[0mout\u001b[0m \u001b[0;34m=\u001b[0m \u001b[0msys\u001b[0m\u001b[0;34m.\u001b[0m\u001b[0mstdout\u001b[0m\u001b[0;34m\u001b[0m\u001b[0;34m\u001b[0m\u001b[0m\n\u001b[1;32m      3\u001b[0m \u001b[0msubmission\u001b[0m \u001b[0;34m=\u001b[0m \u001b[0mutils\u001b[0m\u001b[0;34m.\u001b[0m\u001b[0mread_file\u001b[0m\u001b[0;34m(\u001b[0m\u001b[0;34m\"./submission_test.py\"\u001b[0m\u001b[0;34m)\u001b[0m\u001b[0;34m\u001b[0m\u001b[0;34m\u001b[0m\u001b[0m\n\u001b[0;32m----> 4\u001b[0;31m \u001b[0magent\u001b[0m \u001b[0;34m=\u001b[0m \u001b[0mutils\u001b[0m\u001b[0;34m.\u001b[0m\u001b[0mget_last_callable\u001b[0m\u001b[0;34m(\u001b[0m\u001b[0msubmission\u001b[0m\u001b[0;34m)\u001b[0m\u001b[0;34m\u001b[0m\u001b[0;34m\u001b[0m\u001b[0m\n\u001b[0m\u001b[1;32m      5\u001b[0m \u001b[0msys\u001b[0m\u001b[0;34m.\u001b[0m\u001b[0mstdout\u001b[0m \u001b[0;34m=\u001b[0m \u001b[0mout\u001b[0m\u001b[0;34m\u001b[0m\u001b[0;34m\u001b[0m\u001b[0m\n\u001b[1;32m      6\u001b[0m \u001b[0;34m\u001b[0m\u001b[0m\n",
      "\u001b[0;32m~/.local/lib/python3.8/site-packages/kaggle_environments/utils.py\u001b[0m in \u001b[0;36mget_last_callable\u001b[0;34m(raw, fallback)\u001b[0m\n\u001b[1;32m    155\u001b[0m         \u001b[0;32mif\u001b[0m \u001b[0mfallback\u001b[0m \u001b[0;34m!=\u001b[0m \u001b[0;32mNone\u001b[0m\u001b[0;34m:\u001b[0m\u001b[0;34m\u001b[0m\u001b[0;34m\u001b[0m\u001b[0m\n\u001b[1;32m    156\u001b[0m             \u001b[0;32mreturn\u001b[0m \u001b[0mfallback\u001b[0m\u001b[0;34m\u001b[0m\u001b[0;34m\u001b[0m\u001b[0m\n\u001b[0;32m--> 157\u001b[0;31m         \u001b[0;32mraise\u001b[0m \u001b[0mInvalidArgument\u001b[0m\u001b[0;34m(\u001b[0m\u001b[0;34m\"No callable found\"\u001b[0m\u001b[0;34m)\u001b[0m\u001b[0;34m\u001b[0m\u001b[0;34m\u001b[0m\u001b[0m\n\u001b[0m\u001b[1;32m    158\u001b[0m \u001b[0;34m\u001b[0m\u001b[0m\n\u001b[1;32m    159\u001b[0m \u001b[0;34m\u001b[0m\u001b[0m\n",
      "\u001b[0;31mInvalidArgument\u001b[0m: No callable found"
     ]
    }
   ],
   "source": [
    "import sys\n",
    "out = sys.stdout\n",
    "submission = utils.read_file(\"./submission_test.py\")\n",
    "agent = utils.get_last_callable(submission)\n",
    "sys.stdout = out\n",
    "\n",
    "env = make(\"connectx\", debug=True)\n",
    "env.run([agent, agent])\n",
    "print(\"Success!\" if env.state[0].status == env.state[1].status == \"DONE\" else \"Failed...\")"
   ]
  },
  {
   "cell_type": "code",
   "execution_count": null,
   "metadata": {},
   "outputs": [],
   "source": []
  }
 ]
}